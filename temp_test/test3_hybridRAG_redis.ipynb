{
 "cells": [
  {
   "cell_type": "markdown",
   "id": "21b75545",
   "metadata": {},
   "source": [
    "### Building Hybrid RAG + Redis + LLM\n",
    "\n",
    "Hybrid - Lexical match + Semantic match \n",
    "\n",
    "Lexical - bm25\n",
    "\n",
    "Semantic - Embedding (SentenceTransformer)\n"
   ]
  },
  {
   "cell_type": "code",
   "execution_count": null,
   "id": "c9fce400",
   "metadata": {},
   "outputs": [
    {
     "name": "stdout",
     "output_type": "stream",
     "text": [
      "Requirement already satisfied: python-dotenv in c:\\users\\snuin\\anaconda3\\lib\\site-packages (1.0.1)\n"
     ]
    },
    {
     "name": "stderr",
     "output_type": "stream",
     "text": [
      "'#pip' is not recognized as an internal or external command,\n",
      "operable program or batch file.\n"
     ]
    }
   ],
   "source": [
    "#!pip install pymupdf\n",
    "#!pip install faiss-cpu\n",
    "#!pip install python-dotenv\n",
    "#!pip install nltk\n",
    "!#pip install rank-bm25"
   ]
  },
  {
   "cell_type": "code",
   "execution_count": 6,
   "id": "0c24accb",
   "metadata": {},
   "outputs": [
    {
     "name": "stdout",
     "output_type": "stream",
     "text": [
      "hi\n"
     ]
    }
   ],
   "source": [
    "print(\"hi\")"
   ]
  },
  {
   "cell_type": "code",
   "execution_count": null,
   "id": "6100426d",
   "metadata": {},
   "outputs": [
    {
     "name": "stderr",
     "output_type": "stream",
     "text": [
      "WARNING: Skipping pymupdf as it is not installed.\n"
     ]
    }
   ],
   "source": [
    "#!pip uninstall fitz -y\n",
    "#!pip uninstall PyMuPDF -y\n",
    "#!pip uninstall pymupdf -y"
   ]
  },
  {
   "cell_type": "code",
   "execution_count": 2,
   "id": "7fff0a30",
   "metadata": {},
   "outputs": [
    {
     "name": "stdout",
     "output_type": "stream",
     "text": [
      "Collecting redis\n",
      "  Using cached redis-6.4.0-py3-none-any.whl.metadata (10 kB)\n",
      "Requirement already satisfied: async-timeout>=4.0.3 in c:\\users\\snuin\\anaconda3\\lib\\site-packages (from redis) (4.0.3)\n",
      "Using cached redis-6.4.0-py3-none-any.whl (279 kB)\n",
      "Installing collected packages: redis\n",
      "Successfully installed redis-6.4.0\n"
     ]
    }
   ],
   "source": [
    "!pip install redis"
   ]
  },
  {
   "cell_type": "code",
   "execution_count": null,
   "id": "d4d2d665",
   "metadata": {},
   "outputs": [],
   "source": []
  },
  {
   "cell_type": "code",
   "execution_count": null,
   "id": "06be4970",
   "metadata": {},
   "outputs": [
    {
     "ename": "ModuleNotFoundError",
     "evalue": "No module named 'faiss'",
     "output_type": "error",
     "traceback": [
      "\u001b[1;31m---------------------------------------------------------------------------\u001b[0m",
      "\u001b[1;31mModuleNotFoundError\u001b[0m                       Traceback (most recent call last)",
      "Cell \u001b[1;32mIn[7], line 4\u001b[0m\n\u001b[0;32m      2\u001b[0m \u001b[38;5;28;01mimport\u001b[39;00m \u001b[38;5;21;01mre\u001b[39;00m\n\u001b[0;32m      3\u001b[0m \u001b[38;5;28;01mimport\u001b[39;00m \u001b[38;5;21;01mlangchain_text_splitters\u001b[39;00m\n\u001b[1;32m----> 4\u001b[0m \u001b[38;5;28;01mimport\u001b[39;00m \u001b[38;5;21;01mfaiss\u001b[39;00m\n\u001b[0;32m      5\u001b[0m \u001b[38;5;28;01mimport\u001b[39;00m \u001b[38;5;21;01mredis\u001b[39;00m\n\u001b[0;32m      6\u001b[0m \u001b[38;5;28;01mimport\u001b[39;00m \u001b[38;5;21;01mnumpy\u001b[39;00m \u001b[38;5;28;01mas\u001b[39;00m \u001b[38;5;21;01mnp\u001b[39;00m\n",
      "\u001b[1;31mModuleNotFoundError\u001b[0m: No module named 'faiss'"
     ]
    }
   ],
   "source": [
    "import fitz  # PyMuPDF\n",
    "import re\n",
    "import langchain_text_splitters\n",
    "import faiss\n",
    "import redis\n",
    "import numpy as np\n",
    "import nltk\n",
    "import os\n",
    "import google.generativeai as genai\n",
    "\n",
    "from dotenv import load_dotenv\n",
    "from rank_bm25 import BM25Okapi\n",
    "from nltk.tokenize import word_tokenize,sent_tokenize\n",
    "\n",
    "from langchain_text_splitters import RecursiveCharacterTextSplitter\n",
    "from sentence-transformers import SentenceTransformer\n",
    "\n"
   ]
  },
  {
   "cell_type": "markdown",
   "id": "4da65989",
   "metadata": {},
   "source": [
    "#### Verify pymupdf"
   ]
  },
  {
   "cell_type": "code",
   "execution_count": 4,
   "id": "4b746226",
   "metadata": {},
   "outputs": [
    {
     "name": "stdout",
     "output_type": "stream",
     "text": [
      "c:\\Work Drive-Suchi\\Mithileshsir_AI_ML_GenAI\\Project\\by me\\ChatBot_v2\\env-chatbot_v2\\lib\\site-packages\\fitz\\__init__.py\n",
      "1.26.4\n",
      "['ASSERT_PDF', 'Annot', 'AnyType', 'Archive', 'Base14_fontdict', 'Base14_fontnames', 'ByteString', 'CS_CMYK', 'CS_GRAY', 'CS_RGB', 'CheckColor', 'CheckFont', 'CheckFontInfo', 'CheckMarkerArg', 'CheckMorph', 'CheckParent', 'CheckQuad', 'CheckRect', 'ColorCode', 'Colorspace', 'ConversionHeader', 'ConversionTrailer', 'DeviceWrapper', 'DisplayList', 'Document', 'DocumentWriter', 'EMPTY_IRECT', 'EMPTY_QUAD', 'EMPTY_RECT', 'ENSURE_OPERATION', 'EPSILON', 'ElementPosition', 'EmptyFileError', 'FLT_EPSILON', 'FZ_MAX_INF_RECT', 'FZ_MIN_INF_RECT', 'FZ_RECOMPRESS_FAX', 'FZ_RECOMPRESS_J2K', 'FZ_RECOMPRESS_JPEG', 'FZ_RECOMPRESS_LOSSLESS', 'FZ_RECOMPRESS_NEVER', 'FZ_RECOMPRESS_SAME', 'FZ_SUBSAMPLE_AVERAGE', 'FZ_SUBSAMPLE_BICUBIC', 'FileDataError', 'FileNotFoundError', 'FitzDeprecation', 'Font', 'Graftmap', 'INFINITE_IRECT', 'INFINITE_QUAD', 'INFINITE_RECT', 'INVALID_NAME_CHARS', 'IRect', 'Identity', 'IdentityMatrix', 'JM_BinFromBuffer', 'JM_BufferFromBytes', 'JM_EscapeStrFromBuffer', 'JM_EscapeStrFromStr', 'JM_Exc_FileDataError', 'JM_FLOAT_ITEM', 'JM_INT_ITEM', 'JM_MEMORY', 'JM_StrAsChar', 'JM_TUPLE', 'JM_TUPLE3', 'JM_UnicodeFromBuffer', 'JM_UnicodeFromStr', 'JM_add_annot_id', 'JM_add_layer_config', 'JM_add_oc_object', 'JM_annot_border', 'JM_annot_colors', 'JM_annot_id_stem', 'JM_annot_set_border', 'JM_append_rune', 'JM_append_word', 'JM_char_bbox', 'JM_char_font_flags', 'JM_char_quad', 'JM_choice_options', 'JM_clear_pixmap_rect_with_value', 'JM_color_FromSequence', 'JM_color_count', 'JM_compress_buffer', 'JM_convert_to_pdf', 'JM_copy_rectangle', 'JM_create_widget', 'JM_cropbox', 'JM_cropbox_size', 'JM_derotate_page_matrix', 'JM_embed_file', 'JM_embedded_clean', 'JM_ensure_identity', 'JM_ensure_ocproperties', 'JM_expand_fname', 'JM_field_type_text', 'JM_fill_pixmap_rect_with_color', 'JM_find_annot_irt', 'JM_fitz_config', 'JM_font_ascender', 'JM_font_descender', 'JM_font_name', 'JM_gather_fonts', 'JM_gather_forms', 'JM_gather_images', 'JM_get_annot_by_name', 'JM_get_annot_by_xref', 'JM_get_annot_id_list', 'JM_get_annot_xref_list', 'JM_get_annot_xref_list2', 'JM_get_border_style', 'JM_get_font', 'JM_get_fontbuffer', 'JM_get_fontextension', 'JM_get_ocg_arrays', 'JM_get_ocg_arrays_imp', 'JM_get_page_labels', 'JM_get_resource_properties', 'JM_get_script', 'JM_get_widget_by_xref', 'JM_get_widget_properties', 'JM_have_operation', 'JM_image_extension', 'JM_image_filter', 'JM_image_profile', 'JM_image_reporter', 'JM_image_reporter_Filter', 'JM_insert_contents', 'JM_insert_font', 'JM_irect_from_py', 'JM_is_rtl_char', 'JM_is_word_delimiter', 'JM_listbox_value', 'JM_make_annot_DA', 'JM_make_image_block', 'JM_make_spanlist', 'JM_make_text_block', 'JM_make_textpage_dict', 'JM_matrix_from_py', 'JM_mediabox', 'JM_merge_range', 'JM_merge_resources', 'JM_mupdf_error', 'JM_mupdf_show_errors', 'JM_mupdf_show_warnings', 'JM_mupdf_warning', 'JM_mupdf_warnings_store', 'JM_new_bbox_device', 'JM_new_bbox_device_Device', 'JM_new_buffer_from_stext_page', 'JM_new_javascript', 'JM_new_lineart_device_Device', 'JM_new_output_fileptr', 'JM_new_output_fileptr_Output', 'JM_new_texttrace_device', 'JM_norm_rotation', 'JM_object_to_buffer', 'JM_outline_xrefs', 'JM_page_rotation', 'JM_pdf_obj_from_str', 'JM_pixmap_from_display_list', 'JM_pixmap_from_page', 'JM_point_from_py', 'JM_print_stext_page_as_text', 'JM_put_script', 'JM_py_from_irect', 'JM_py_from_matrix', 'JM_py_from_point', 'JM_py_from_quad', 'JM_py_from_rect', 'JM_quad_from_py', 'JM_read_contents', 'JM_rect_from_py', 'JM_rects_overlap', 'JM_refresh_links', 'JM_rotate_page_matrix', 'JM_scan_resources', 'JM_search_stext_page', 'JM_set_choice_options', 'JM_set_field_type', 'JM_set_object_value', 'JM_set_ocg_arrays', 'JM_set_ocg_arrays_imp', 'JM_set_resource_property', 'JM_set_widget_properties', 'JM_show_string_cs', 'JM_update_stream', 'JM_xobject_from_page', 'LINK_FLAG_B_VALID', 'LINK_FLAG_FIT_H', 'LINK_FLAG_FIT_V', 'LINK_FLAG_L_VALID', 'LINK_FLAG_R_IS_ZOOM', 'LINK_FLAG_R_VALID', 'LINK_FLAG_T_VALID', 'LINK_GOTO', 'LINK_GOTOR', 'LINK_LAUNCH', 'LINK_NAMED', 'LINK_NONE', 'LINK_URI', 'Link', 'MSG_BAD_ANNOT_TYPE', 'MSG_BAD_APN', 'MSG_BAD_ARG_INK_ANNOT', 'MSG_BAD_ARG_POINTS', 'MSG_BAD_BUFFER', 'MSG_BAD_COLOR_SEQ', 'MSG_BAD_DOCUMENT', 'MSG_BAD_FILETYPE', 'MSG_BAD_LOCATION', 'MSG_BAD_OC_CONFIG', 'MSG_BAD_OC_LAYER', 'MSG_BAD_OC_REF', 'MSG_BAD_PAGEID', 'MSG_BAD_PAGENO', 'MSG_BAD_PDFROOT', 'MSG_BAD_RECT', 'MSG_BAD_TEXT', 'MSG_BAD_XREF', 'MSG_COLOR_COUNT_FAILED', 'MSG_FILE_OR_BUFFER', 'MSG_FONT_FAILED', 'MSG_IS_NO_ANNOT', 'MSG_IS_NO_DICT', 'MSG_IS_NO_IMAGE', 'MSG_IS_NO_PDF', 'MSG_PIXEL_OUTSIDE', 'MSG_PIX_NOALPHA', 'Matrix', 'OptBytes', 'OptDict', 'OptFloat', 'OptInt', 'OptSeq', 'OptStr', 'Outline', 'PDF_ALERT_BUTTON_CANCEL', 'PDF_ALERT_BUTTON_GROUP_OK', 'PDF_ALERT_BUTTON_GROUP_OK_CANCEL', 'PDF_ALERT_BUTTON_GROUP_YES_NO', 'PDF_ALERT_BUTTON_GROUP_YES_NO_CANCEL', 'PDF_ALERT_BUTTON_NO', 'PDF_ALERT_BUTTON_NONE', 'PDF_ALERT_BUTTON_OK', 'PDF_ALERT_BUTTON_YES', 'PDF_ALERT_ICON_ERROR', 'PDF_ALERT_ICON_QUESTION', 'PDF_ALERT_ICON_STATUS', 'PDF_ALERT_ICON_WARNING', 'PDF_ANNOT_3D', 'PDF_ANNOT_CARET', 'PDF_ANNOT_CIRCLE', 'PDF_ANNOT_FILE_ATTACHMENT', 'PDF_ANNOT_FREE_TEXT', 'PDF_ANNOT_HIGHLIGHT', 'PDF_ANNOT_INK', 'PDF_ANNOT_IS_HIDDEN', 'PDF_ANNOT_IS_INVISIBLE', 'PDF_ANNOT_IS_LOCKED', 'PDF_ANNOT_IS_LOCKED_CONTENTS', 'PDF_ANNOT_IS_NO_ROTATE', 'PDF_ANNOT_IS_NO_VIEW', 'PDF_ANNOT_IS_NO_ZOOM', 'PDF_ANNOT_IS_PRINT', 'PDF_ANNOT_IS_READ_ONLY', 'PDF_ANNOT_IS_TOGGLE_NO_VIEW', 'PDF_ANNOT_IT_DEFAULT', 'PDF_ANNOT_IT_FREETEXT_CALLOUT', 'PDF_ANNOT_IT_FREETEXT_TYPEWRITER', 'PDF_ANNOT_IT_LINE_ARROW', 'PDF_ANNOT_IT_LINE_DIMENSION', 'PDF_ANNOT_IT_POLYGON_CLOUD', 'PDF_ANNOT_IT_POLYGON_DIMENSION', 'PDF_ANNOT_IT_POLYLINE_DIMENSION', 'PDF_ANNOT_IT_STAMP_IMAGE', 'PDF_ANNOT_IT_STAMP_SNAPSHOT', 'PDF_ANNOT_IT_UNKNOWN', 'PDF_ANNOT_LE_BUTT', 'PDF_ANNOT_LE_CIRCLE', 'PDF_ANNOT_LE_CLOSED_ARROW', 'PDF_ANNOT_LE_DIAMOND', 'PDF_ANNOT_LE_NONE', 'PDF_ANNOT_LE_OPEN_ARROW', 'PDF_ANNOT_LE_R_CLOSED_ARROW', 'PDF_ANNOT_LE_R_OPEN_ARROW', 'PDF_ANNOT_LE_SLASH', 'PDF_ANNOT_LE_SQUARE', 'PDF_ANNOT_LINE', 'PDF_ANNOT_LINK', 'PDF_ANNOT_MOVIE', 'PDF_ANNOT_POLYGON', 'PDF_ANNOT_POLY_LINE', 'PDF_ANNOT_POPUP', 'PDF_ANNOT_PRINTER_MARK', 'PDF_ANNOT_PROJECTION', 'PDF_ANNOT_Q_CENTER', 'PDF_ANNOT_Q_LEFT', 'PDF_ANNOT_Q_RIGHT', 'PDF_ANNOT_REDACT', 'PDF_ANNOT_RICH_MEDIA', 'PDF_ANNOT_SCREEN', 'PDF_ANNOT_SOUND', 'PDF_ANNOT_SQUARE', 'PDF_ANNOT_SQUIGGLY', 'PDF_ANNOT_STAMP', 'PDF_ANNOT_STRIKE_OUT', 'PDF_ANNOT_TEXT', 'PDF_ANNOT_TRAP_NET', 'PDF_ANNOT_UNDERLINE', 'PDF_ANNOT_UNKNOWN', 'PDF_ANNOT_WATERMARK', 'PDF_ANNOT_WIDGET', 'PDF_BM_Color', 'PDF_BM_ColorBurn', 'PDF_BM_ColorDodge', 'PDF_BM_Darken', 'PDF_BM_Difference', 'PDF_BM_Exclusion', 'PDF_BM_HardLight', 'PDF_BM_Hue', 'PDF_BM_Lighten', 'PDF_BM_Luminosity', 'PDF_BM_Multiply', 'PDF_BM_Normal', 'PDF_BM_Overlay', 'PDF_BM_Saturation', 'PDF_BM_Screen', 'PDF_BM_SoftLight', 'PDF_BORDER_EFFECT_CLOUDY', 'PDF_BORDER_EFFECT_NONE', 'PDF_BORDER_STYLE_BEVELED', 'PDF_BORDER_STYLE_DASHED', 'PDF_BORDER_STYLE_INSET', 'PDF_BORDER_STYLE_SOLID', 'PDF_BORDER_STYLE_UNDERLINE', 'PDF_BTN_FIELD_IS_NO_TOGGLE_TO_OFF', 'PDF_BTN_FIELD_IS_PUSHBUTTON', 'PDF_BTN_FIELD_IS_RADIO', 'PDF_BTN_FIELD_IS_RADIOS_IN_UNISON', 'PDF_CH_FIELD_IS_COMBO', 'PDF_CH_FIELD_IS_COMMIT_ON_SEL_CHANGE', 'PDF_CH_FIELD_IS_DO_NOT_SPELL_CHECK', 'PDF_CH_FIELD_IS_EDIT', 'PDF_CH_FIELD_IS_MULTI_SELECT', 'PDF_CH_FIELD_IS_SORT', 'PDF_CID_FONT_RESOURCE', 'PDF_CJK_FONT_RESOURCE', 'PDF_CLEAN_STRUCTURE_DROP', 'PDF_CLEAN_STRUCTURE_KEEP', 'PDF_DOCUMENT_EVENT_ALERT', 'PDF_DOCUMENT_EVENT_EXEC_MENU_ITEM', 'PDF_DOCUMENT_EVENT_LAUNCH_URL', 'PDF_DOCUMENT_EVENT_MAIL_DOC', 'PDF_DOCUMENT_EVENT_PRINT', 'PDF_DOCUMENT_EVENT_SUBMIT', 'PDF_ENCRYPT_AES_128', 'PDF_ENCRYPT_AES_256', 'PDF_ENCRYPT_KEEP', 'PDF_ENCRYPT_NONE', 'PDF_ENCRYPT_RC4_128', 'PDF_ENCRYPT_RC4_40', 'PDF_ENCRYPT_UNKNOWN', 'PDF_ENUM_FALSE', 'PDF_ENUM_LIMIT', 'PDF_ENUM_NULL', 'PDF_ENUM_TRUE', 'PDF_FALSE', 'PDF_FD_ALL_CAP', 'PDF_FD_FIXED_PITCH', 'PDF_FD_FORCE_BOLD', 'PDF_FD_ITALIC', 'PDF_FD_NONSYMBOLIC', 'PDF_FD_SCRIPT', 'PDF_FD_SERIF', 'PDF_FD_SMALL_CAP', 'PDF_FD_SYMBOLIC', 'PDF_FIELD_IS_NO_EXPORT', 'PDF_FIELD_IS_READ_ONLY', 'PDF_FIELD_IS_REQUIRED', 'PDF_LAYER_UI_CHECKBOX', 'PDF_LAYER_UI_LABEL', 'PDF_LAYER_UI_RADIOBOX', 'PDF_LEXBUF_LARGE', 'PDF_LEXBUF_SMALL', 'PDF_MAX_GEN_NUMBER', 'PDF_MAX_OBJECT_NUMBER', 'PDF_MRANGE_CAP', 'PDF_NAME', 'PDF_NOT_ZUGFERD', 'PDF_NULL', 'PDF_NUM_TOKENS', 'PDF_OC_OFF', 'PDF_OC_ON', 'PDF_OC_TOGGLE', 'PDF_PAGE_LABEL_ALPHA_LC', 'PDF_PAGE_LABEL_ALPHA_UC', 'PDF_PAGE_LABEL_DECIMAL', 'PDF_PAGE_LABEL_NONE', 'PDF_PAGE_LABEL_ROMAN_LC', 'PDF_PAGE_LABEL_ROMAN_UC', 'PDF_PERM_ACCESSIBILITY', 'PDF_PERM_ANNOTATE', 'PDF_PERM_ASSEMBLE', 'PDF_PERM_COPY', 'PDF_PERM_FORM', 'PDF_PERM_MODIFY', 'PDF_PERM_PRINT', 'PDF_PERM_PRINT_HQ', 'PDF_PROCESSOR_REQUIRES_DECODED_IMAGES', 'PDF_REDACT_IMAGE_NONE', 'PDF_REDACT_IMAGE_PIXELS', 'PDF_REDACT_IMAGE_REMOVE', 'PDF_REDACT_IMAGE_REMOVE_UNLESS_INVISIBLE', 'PDF_REDACT_LINE_ART_NONE', 'PDF_REDACT_LINE_ART_REMOVE_IF_COVERED', 'PDF_REDACT_LINE_ART_REMOVE_IF_TOUCHED', 'PDF_REDACT_TEXT_NONE', 'PDF_REDACT_TEXT_REMOVE', 'PDF_SIGNATURE_DEFAULT_APPEARANCE', 'PDF_SIGNATURE_ERROR_DIGEST_FAILURE', 'PDF_SIGNATURE_ERROR_NOT_SIGNED', 'PDF_SIGNATURE_ERROR_NOT_TRUSTED', 'PDF_SIGNATURE_ERROR_NO_CERTIFICATE', 'PDF_SIGNATURE_ERROR_NO_SIGNATURES', 'PDF_SIGNATURE_ERROR_OKAY', 'PDF_SIGNATURE_ERROR_SELF_SIGNED', 'PDF_SIGNATURE_ERROR_SELF_SIGNED_IN_CHAIN', 'PDF_SIGNATURE_ERROR_UNKNOWN', 'PDF_SIGNATURE_SHOW_DATE', 'PDF_SIGNATURE_SHOW_DN', 'PDF_SIGNATURE_SHOW_GRAPHIC_NAME', 'PDF_SIGNATURE_SHOW_LABELS', 'PDF_SIGNATURE_SHOW_LOGO', 'PDF_SIGNATURE_SHOW_TEXT_NAME', 'PDF_SIMPLE_ENCODING_CYRILLIC', 'PDF_SIMPLE_ENCODING_GREEK', 'PDF_SIMPLE_ENCODING_LATIN', 'PDF_SIMPLE_FONT_RESOURCE', 'PDF_TOK_CLOSE_ARRAY', 'PDF_TOK_CLOSE_BRACE', 'PDF_TOK_CLOSE_DICT', 'PDF_TOK_ENDOBJ', 'PDF_TOK_ENDSTREAM', 'PDF_TOK_EOF', 'PDF_TOK_ERROR', 'PDF_TOK_FALSE', 'PDF_TOK_INT', 'PDF_TOK_KEYWORD', 'PDF_TOK_NAME', 'PDF_TOK_NEWOBJ', 'PDF_TOK_NULL', 'PDF_TOK_OBJ', 'PDF_TOK_OPEN_ARRAY', 'PDF_TOK_OPEN_BRACE', 'PDF_TOK_OPEN_DICT', 'PDF_TOK_R', 'PDF_TOK_REAL', 'PDF_TOK_STARTXREF', 'PDF_TOK_STREAM', 'PDF_TOK_STRING', 'PDF_TOK_TRAILER', 'PDF_TOK_TRUE', 'PDF_TOK_XREF', 'PDF_TRUE', 'PDF_TX_FIELD_IS_COMB', 'PDF_TX_FIELD_IS_DO_NOT_SCROLL', 'PDF_TX_FIELD_IS_DO_NOT_SPELL_CHECK', 'PDF_TX_FIELD_IS_FILE_SELECT', 'PDF_TX_FIELD_IS_MULTILINE', 'PDF_TX_FIELD_IS_PASSWORD', 'PDF_TX_FIELD_IS_RICH_TEXT', 'PDF_WIDGET_TX_FORMAT_DATE', 'PDF_WIDGET_TX_FORMAT_NONE', 'PDF_WIDGET_TX_FORMAT_NUMBER', 'PDF_WIDGET_TX_FORMAT_SPECIAL', 'PDF_WIDGET_TX_FORMAT_TIME', 'PDF_WIDGET_TYPE_BUTTON', 'PDF_WIDGET_TYPE_CHECKBOX', 'PDF_WIDGET_TYPE_COMBOBOX', 'PDF_WIDGET_TYPE_LISTBOX', 'PDF_WIDGET_TYPE_RADIOBUTTON', 'PDF_WIDGET_TYPE_SIGNATURE', 'PDF_WIDGET_TYPE_TEXT', 'PDF_WIDGET_TYPE_UNKNOWN', 'PDF_ZUGFERD_BASIC', 'PDF_ZUGFERD_BASIC_WL', 'PDF_ZUGFERD_COMFORT', 'PDF_ZUGFERD_EXTENDED', 'PDF_ZUGFERD_MINIMUM', 'PDF_ZUGFERD_UNKNOWN', 'PDF_ZUGFERD_XRECHNUNG', 'Page', 'Page__add_text_marker', 'Pixmap', 'Point', 'PyExc_ValueError', 'PySequence_Check', 'PySequence_Size', 'PyUnicode_DecodeRawUnicodeEscape', 'Quad', 'RAISEPY', 'Rect', 'STAMP_Approved', 'STAMP_AsIs', 'STAMP_Confidential', 'STAMP_Departmental', 'STAMP_Draft', 'STAMP_Experimental', 'STAMP_Expired', 'STAMP_Final', 'STAMP_ForComment', 'STAMP_ForPublicRelease', 'STAMP_NotApproved', 'STAMP_NotForPublicRelease', 'STAMP_Sold', 'STAMP_TopSecret', 'Shape', 'SigFlag_AppendOnly', 'SigFlag_SignaturesExist', 'Story', 'TEXTFLAGS_BLOCKS', 'TEXTFLAGS_DICT', 'TEXTFLAGS_HTML', 'TEXTFLAGS_RAWDICT', 'TEXTFLAGS_SEARCH', 'TEXTFLAGS_TEXT', 'TEXTFLAGS_WORDS', 'TEXTFLAGS_XHTML', 'TEXTFLAGS_XML', 'TEXT_ACCURATE_ASCENDERS', 'TEXT_ACCURATE_BBOXES', 'TEXT_ACCURATE_SIDE_BEARINGS', 'TEXT_ALIGN_CENTER', 'TEXT_ALIGN_JUSTIFY', 'TEXT_ALIGN_LEFT', 'TEXT_ALIGN_RIGHT', 'TEXT_CID_FOR_UNKNOWN_UNICODE', 'TEXT_CLIP_RECT', 'TEXT_COLLECT_STRUCTURE', 'TEXT_COLLECT_STYLES', 'TEXT_COLLECT_VECTORS', 'TEXT_DEHYPHENATE', 'TEXT_ENCODING_CYRILLIC', 'TEXT_ENCODING_GREEK', 'TEXT_ENCODING_LATIN', 'TEXT_FONT_BOLD', 'TEXT_FONT_ITALIC', 'TEXT_FONT_MONOSPACED', 'TEXT_FONT_SERIFED', 'TEXT_FONT_SUPERSCRIPT', 'TEXT_IGNORE_ACTUALTEXT', 'TEXT_INHIBIT_SPACES', 'TEXT_MEDIABOX_CLIP', 'TEXT_OUTPUT_HTML', 'TEXT_OUTPUT_JSON', 'TEXT_OUTPUT_TEXT', 'TEXT_OUTPUT_XHTML', 'TEXT_OUTPUT_XML', 'TEXT_PARAGRAPH_BREAK', 'TEXT_PRESERVE_IMAGES', 'TEXT_PRESERVE_LIGATURES', 'TEXT_PRESERVE_SPANS', 'TEXT_PRESERVE_WHITESPACE', 'TEXT_SEGMENT', 'TEXT_STEXT_SEGMENT', 'TEXT_TABLE_HUNT', 'TEXT_USE_CID_FOR_UNKNOWN_UNICODE', 'TEXT_USE_GID_FOR_UNKNOWN_UNICODE', 'TOOLS', 'TOOLS_JM_UNIQUE_ID', 'TextPage', 'TextWriter', 'UCDN_SCRIPT_ADLAM', 'UCDN_SCRIPT_AHOM', 'UCDN_SCRIPT_ANATOLIAN_HIEROGLYPHS', 'UCDN_SCRIPT_ARABIC', 'UCDN_SCRIPT_ARMENIAN', 'UCDN_SCRIPT_AVESTAN', 'UCDN_SCRIPT_BALINESE', 'UCDN_SCRIPT_BAMUM', 'UCDN_SCRIPT_BASSA_VAH', 'UCDN_SCRIPT_BATAK', 'UCDN_SCRIPT_BENGALI', 'UCDN_SCRIPT_BHAIKSUKI', 'UCDN_SCRIPT_BOPOMOFO', 'UCDN_SCRIPT_BRAHMI', 'UCDN_SCRIPT_BRAILLE', 'UCDN_SCRIPT_BUGINESE', 'UCDN_SCRIPT_BUHID', 'UCDN_SCRIPT_CANADIAN_ABORIGINAL', 'UCDN_SCRIPT_CARIAN', 'UCDN_SCRIPT_CAUCASIAN_ALBANIAN', 'UCDN_SCRIPT_CHAKMA', 'UCDN_SCRIPT_CHAM', 'UCDN_SCRIPT_CHEROKEE', 'UCDN_SCRIPT_CHORASMIAN', 'UCDN_SCRIPT_COMMON', 'UCDN_SCRIPT_COPTIC', 'UCDN_SCRIPT_CUNEIFORM', 'UCDN_SCRIPT_CYPRIOT', 'UCDN_SCRIPT_CYPRO_MINOAN', 'UCDN_SCRIPT_CYRILLIC', 'UCDN_SCRIPT_DESERET', 'UCDN_SCRIPT_DEVANAGARI', 'UCDN_SCRIPT_DIVES_AKURU', 'UCDN_SCRIPT_DOGRA', 'UCDN_SCRIPT_DUPLOYAN', 'UCDN_SCRIPT_EGYPTIAN_HIEROGLYPHS', 'UCDN_SCRIPT_ELBASAN', 'UCDN_SCRIPT_ELYMAIC', 'UCDN_SCRIPT_ETHIOPIC', 'UCDN_SCRIPT_GARAY', 'UCDN_SCRIPT_GEORGIAN', 'UCDN_SCRIPT_GLAGOLITIC', 'UCDN_SCRIPT_GOTHIC', 'UCDN_SCRIPT_GRANTHA', 'UCDN_SCRIPT_GREEK', 'UCDN_SCRIPT_GUJARATI', 'UCDN_SCRIPT_GUNJALA_GONDI', 'UCDN_SCRIPT_GURMUKHI', 'UCDN_SCRIPT_GURUNG_KHEMA', 'UCDN_SCRIPT_HAN', 'UCDN_SCRIPT_HANGUL', 'UCDN_SCRIPT_HANIFI_ROHINGYA', 'UCDN_SCRIPT_HANUNOO', 'UCDN_SCRIPT_HATRAN', 'UCDN_SCRIPT_HEBREW', 'UCDN_SCRIPT_HIRAGANA', 'UCDN_SCRIPT_IMPERIAL_ARAMAIC', 'UCDN_SCRIPT_INHERITED', 'UCDN_SCRIPT_INSCRIPTIONAL_PAHLAVI', 'UCDN_SCRIPT_INSCRIPTIONAL_PARTHIAN', 'UCDN_SCRIPT_JAVANESE', 'UCDN_SCRIPT_KAITHI', 'UCDN_SCRIPT_KANNADA', 'UCDN_SCRIPT_KATAKANA', 'UCDN_SCRIPT_KAWI', 'UCDN_SCRIPT_KAYAH_LI', 'UCDN_SCRIPT_KHAROSHTHI', 'UCDN_SCRIPT_KHITAN_SMALL_SCRIPT', 'UCDN_SCRIPT_KHMER', 'UCDN_SCRIPT_KHOJKI', 'UCDN_SCRIPT_KHUDAWADI', 'UCDN_SCRIPT_KIRAT_RAI', 'UCDN_SCRIPT_LAO', 'UCDN_SCRIPT_LATIN', 'UCDN_SCRIPT_LEPCHA', 'UCDN_SCRIPT_LIMBU', 'UCDN_SCRIPT_LINEAR_A', 'UCDN_SCRIPT_LINEAR_B', 'UCDN_SCRIPT_LISU', 'UCDN_SCRIPT_LYCIAN', 'UCDN_SCRIPT_LYDIAN', 'UCDN_SCRIPT_MAHAJANI', 'UCDN_SCRIPT_MAKASAR', 'UCDN_SCRIPT_MALAYALAM', 'UCDN_SCRIPT_MANDAIC', 'UCDN_SCRIPT_MANICHAEAN', 'UCDN_SCRIPT_MARCHEN', 'UCDN_SCRIPT_MASARAM_GONDI', 'UCDN_SCRIPT_MEDEFAIDRIN', 'UCDN_SCRIPT_MEETEI_MAYEK', 'UCDN_SCRIPT_MENDE_KIKAKUI', 'UCDN_SCRIPT_MEROITIC_CURSIVE', 'UCDN_SCRIPT_MEROITIC_HIEROGLYPHS', 'UCDN_SCRIPT_MIAO', 'UCDN_SCRIPT_MODI', 'UCDN_SCRIPT_MONGOLIAN', 'UCDN_SCRIPT_MRO', 'UCDN_SCRIPT_MULTANI', 'UCDN_SCRIPT_MYANMAR', 'UCDN_SCRIPT_NABATAEAN', 'UCDN_SCRIPT_NAG_MUNDARI', 'UCDN_SCRIPT_NANDINAGARI', 'UCDN_SCRIPT_NEWA', 'UCDN_SCRIPT_NEW_TAI_LUE', 'UCDN_SCRIPT_NKO', 'UCDN_SCRIPT_NUSHU', 'UCDN_SCRIPT_NYIAKENG_PUACHUE_HMONG', 'UCDN_SCRIPT_OGHAM', 'UCDN_SCRIPT_OLD_HUNGARIAN', 'UCDN_SCRIPT_OLD_ITALIC', 'UCDN_SCRIPT_OLD_NORTH_ARABIAN', 'UCDN_SCRIPT_OLD_PERMIC', 'UCDN_SCRIPT_OLD_PERSIAN', 'UCDN_SCRIPT_OLD_SOGDIAN', 'UCDN_SCRIPT_OLD_SOUTH_ARABIAN', 'UCDN_SCRIPT_OLD_TURKIC', 'UCDN_SCRIPT_OLD_UYGHUR', 'UCDN_SCRIPT_OL_CHIKI', 'UCDN_SCRIPT_OL_ONAL', 'UCDN_SCRIPT_ORIYA', 'UCDN_SCRIPT_OSAGE', 'UCDN_SCRIPT_OSMANYA', 'UCDN_SCRIPT_PAHAWH_HMONG', 'UCDN_SCRIPT_PALMYRENE', 'UCDN_SCRIPT_PAU_CIN_HAU', 'UCDN_SCRIPT_PHAGS_PA', 'UCDN_SCRIPT_PHOENICIAN', 'UCDN_SCRIPT_PSALTER_PAHLAVI', 'UCDN_SCRIPT_REJANG', 'UCDN_SCRIPT_RUNIC', 'UCDN_SCRIPT_SAMARITAN', 'UCDN_SCRIPT_SAURASHTRA', 'UCDN_SCRIPT_SHARADA', 'UCDN_SCRIPT_SHAVIAN', 'UCDN_SCRIPT_SIDDHAM', 'UCDN_SCRIPT_SIGNWRITING', 'UCDN_SCRIPT_SINHALA', 'UCDN_SCRIPT_SOGDIAN', 'UCDN_SCRIPT_SORA_SOMPENG', 'UCDN_SCRIPT_SOYOMBO', 'UCDN_SCRIPT_SUNDANESE', 'UCDN_SCRIPT_SUNUWAR', 'UCDN_SCRIPT_SYLOTI_NAGRI', 'UCDN_SCRIPT_SYRIAC', 'UCDN_SCRIPT_TAGALOG', 'UCDN_SCRIPT_TAGBANWA', 'UCDN_SCRIPT_TAI_LE', 'UCDN_SCRIPT_TAI_THAM', 'UCDN_SCRIPT_TAI_VIET', 'UCDN_SCRIPT_TAKRI', 'UCDN_SCRIPT_TAMIL', 'UCDN_SCRIPT_TANGSA', 'UCDN_SCRIPT_TANGUT', 'UCDN_SCRIPT_TELUGU', 'UCDN_SCRIPT_THAANA', 'UCDN_SCRIPT_THAI', 'UCDN_SCRIPT_TIBETAN', 'UCDN_SCRIPT_TIFINAGH', 'UCDN_SCRIPT_TIRHUTA', 'UCDN_SCRIPT_TODHRI', 'UCDN_SCRIPT_TOTO', 'UCDN_SCRIPT_TULU_TIGALARI', 'UCDN_SCRIPT_UGARITIC', 'UCDN_SCRIPT_UNKNOWN', 'UCDN_SCRIPT_VAI', 'UCDN_SCRIPT_VITHKUQI', 'UCDN_SCRIPT_WANCHO', 'UCDN_SCRIPT_WARANG_CITI', 'UCDN_SCRIPT_YEZIDI', 'UCDN_SCRIPT_YI', 'UCDN_SCRIPT_ZANABAZAR_SQUARE', 'UpdateFontInfo', 'VersionBind', 'VersionDate', 'VersionFitz', 'Walker', 'Widget', 'Xml', '__builtins__', '__cached__', '__doc__', '__file__', '__loader__', '__name__', '__package__', '__path__', '__spec__', '__version__', '_as_fz_document', '_as_fz_page', '_as_pdf_document', '_as_pdf_page', '_g_out_message', '_globals', '_log_items', '_log_items_active', '_log_items_clear', 'annot_postprocess', 'annot_preprocess', 'annot_skel', 'apply_pages', 'args_match', 'atexit', 'b', 'binascii', 'calc_image_matrix', 'canon', 'chartocanon', 'collections', 'colors_pdf_dict', 'colors_wx_list', 'compute_scissor', 'csCMYK', 'csGRAY', 'csRGB', 'css_for_pymupdf_font', 'dest_is_valid', 'dest_is_valid_page', 'detect_super_script', 'dictkey_align', 'dictkey_asc', 'dictkey_bbox', 'dictkey_bidi', 'dictkey_blocks', 'dictkey_bpc', 'dictkey_c', 'dictkey_char_flags', 'dictkey_chars', 'dictkey_color', 'dictkey_colorspace', 'dictkey_content', 'dictkey_creationDate', 'dictkey_cs_name', 'dictkey_da', 'dictkey_dashes', 'dictkey_desc', 'dictkey_descr', 'dictkey_dir', 'dictkey_effect', 'dictkey_ext', 'dictkey_filename', 'dictkey_fill', 'dictkey_flags', 'dictkey_font', 'dictkey_glyph', 'dictkey_height', 'dictkey_id', 'dictkey_image', 'dictkey_items', 'dictkey_length', 'dictkey_lines', 'dictkey_matrix', 'dictkey_modDate', 'dictkey_name', 'dictkey_number', 'dictkey_origin', 'dictkey_rect', 'dictkey_size', 'dictkey_smask', 'dictkey_spans', 'dictkey_stroke', 'dictkey_style', 'dictkey_subject', 'dictkey_text', 'dictkey_title', 'dictkey_type', 'dictkey_ufilename', 'dictkey_width', 'dictkey_wmode', 'dictkey_xref', 'dictkey_xres', 'dictkey_yres', 'dir_str', 'exception_info', 'extra', 'extra_FzDocument_insert_pdf', 'f', 'find_string', 'find_tables', 'fitz_fontdescriptors', 'format_g', 'g', 'g_exceptions_verbose', 'g_img_info', 'g_use_extra', 'getTJstr', 'get_env_bool', 'get_env_int', 'get_highlight_selection', 'get_pdf_now', 'get_pdf_str', 'get_tessdata', 'get_text', 'get_text_length', 'glob', 'glyph_name_to_unicode', 'hdist', 'image_profile', 'inspect', 'io', 'jm_append_merge', 'jm_bbox_add_rect', 'jm_bbox_fill_image', 'jm_bbox_fill_image_mask', 'jm_bbox_fill_path', 'jm_bbox_fill_shade', 'jm_bbox_fill_text', 'jm_bbox_ignore_text', 'jm_bbox_stroke_path', 'jm_bbox_stroke_text', 'jm_checkquad', 'jm_checkrect', 'jm_dev_linewidth', 'jm_increase_seqno', 'jm_lineart_begin_group', 'jm_lineart_begin_layer', 'jm_lineart_clip_image_mask', 'jm_lineart_clip_path', 'jm_lineart_clip_stroke_path', 'jm_lineart_clip_stroke_text', 'jm_lineart_clip_text', 'jm_lineart_color', 'jm_lineart_drop_device', 'jm_lineart_end_group', 'jm_lineart_end_layer', 'jm_lineart_fill_path', 'jm_lineart_fill_text', 'jm_lineart_ignore_text', 'jm_lineart_path', 'jm_lineart_pop_clip', 'jm_lineart_stroke_path', 'jm_lineart_stroke_text', 'jm_trace_text', 'jm_trace_text_span', 'linkDest', 'log', 'make_escape', 'make_story_elpos', 'make_table', 'match_string', 'math', 'matrix_like', 'message', 'message_warning', 'mupdf', 'mupdf_cppyy', 'mupdf_location', 'mupdf_version', 'mupdf_version_tuple', 'name', 'on_highlight_char', 'open', 'os', 'page_merge', 'paper_rect', 'paper_size', 'paper_sizes', 'pathlib', 'pdf_lookup_page_loc', 'pdfcolor', 'pdfobj_string', 'planish_line', 'point_like', 'pymupdf', 'pymupdf_date', 'pymupdf_git_branch', 'pymupdf_git_diff', 'pymupdf_git_sha', 'pymupdf_version', 'pymupdf_version_tuple', 'quad_like', 'r', 're', 'recover_bbox_quad', 'recover_char_quad', 'recover_line_quad', 'recover_quad', 'recover_span_quad', 'rect_like', 'repair_mono_font', 'restore_aliases', 'sRGB_to_pdf', 'sRGB_to_rgb', 'set_log', 'set_messages', 'string', 'string_in_names_list', 'strip_outline', 'strip_outlines', 'swig_version', 'swig_version_tuple', 'symbol_glyphs', 'sys', 'table', 'tarfile', 'time', 'trace_device_CLIP_PATH', 'trace_device_CLIP_STROKE_PATH', 'trace_device_FILL_PATH', 'trace_device_STROKE_PATH', 'typing', 'unicode_to_glyph_name', 'util_concat_matrix', 'util_ensure_widget_calc', 'util_hor_matrix', 'util_include_point_in_rect', 'util_intersect_rect', 'util_invert_matrix', 'util_is_point_in_rect', 'util_make_irect', 'util_make_rect', 'util_measure_string', 'util_point_in_quad', 'util_round_rect', 'util_sine_between', 'util_transform_point', 'util_transform_rect', 'util_union_rect', 'utils', 'vdist', 'version', 'warnings', 'weakref', 'zapf_glyphs', 'zipfile']\n"
     ]
    }
   ],
   "source": [
    "print(fitz.__file__)\n",
    "print(fitz.__version__ if hasattr(fitz, '__version__') else 'No version')\n",
    "print(dir(fitz))"
   ]
  },
  {
   "cell_type": "markdown",
   "id": "b978dc28",
   "metadata": {},
   "source": [
    "#### nltk download for tokenizer : BM25"
   ]
  },
  {
   "cell_type": "code",
   "execution_count": 5,
   "id": "78f94d8e",
   "metadata": {},
   "outputs": [
    {
     "name": "stderr",
     "output_type": "stream",
     "text": [
      "[nltk_data] Downloading package punkt to\n",
      "[nltk_data]     C:\\Users\\snuin\\AppData\\Roaming\\nltk_data...\n",
      "[nltk_data]   Package punkt is already up-to-date!\n",
      "[nltk_data] Downloading package punkt_tab to\n",
      "[nltk_data]     C:\\Users\\snuin\\AppData\\Roaming\\nltk_data...\n",
      "[nltk_data]   Package punkt_tab is already up-to-date!\n"
     ]
    },
    {
     "data": {
      "text/plain": [
       "True"
      ]
     },
     "execution_count": 5,
     "metadata": {},
     "output_type": "execute_result"
    }
   ],
   "source": [
    "import nltk\n",
    "nltk.download(\"punkt\")\n",
    "nltk.download('punkt_tab')"
   ]
  },
  {
   "cell_type": "markdown",
   "id": "4e293425",
   "metadata": {},
   "source": [
    "#### Redis server -client connection"
   ]
  },
  {
   "cell_type": "code",
   "execution_count": null,
   "id": "400f511b",
   "metadata": {},
   "outputs": [],
   "source": [
    "#redis_client = redis.Redis(host='localhost', port=6379, db=0)"
   ]
  },
  {
   "cell_type": "code",
   "execution_count": null,
   "id": "845017e8",
   "metadata": {},
   "outputs": [
    {
     "name": "stdout",
     "output_type": "stream",
     "text": [
      "True\n"
     ]
    }
   ],
   "source": [
    "#print(redis_client.ping())  ## verfiy redis-server is running"
   ]
  },
  {
   "cell_type": "code",
   "execution_count": null,
   "id": "35769571",
   "metadata": {},
   "outputs": [
    {
     "name": "stdout",
     "output_type": "stream",
     "text": [
      "bar\n"
     ]
    }
   ],
   "source": [
    "from dotenv import load_dotenv\n",
    "import redis\n",
    "import os\n",
    "\n",
    "load_dotenv()\n",
    "\n",
    "redis_client = redis.Redis(\n",
    "                host = os.getenv(\"REDIS_HOST\"),\n",
    "                port = int(os.getenv(\"REDIS_PORT\")),\n",
    "                password = os.getenv(\"REDIS_PASSWORD\"),\n",
    "                ssl=True\n",
    "                )\n",
    "\n",
    "redis_client.set('foo', 'bar')\n",
    "value = redis_client.get('foo')\n",
    "print(value.decode()) ## if will not use decode then print byte str"
   ]
  },
  {
   "cell_type": "code",
   "execution_count": null,
   "id": "8ddb99d1",
   "metadata": {},
   "outputs": [
    {
     "name": "stdout",
     "output_type": "stream",
     "text": [
      "True\n"
     ]
    }
   ],
   "source": [
    "print(redis_client.ping()) ## verify its working "
   ]
  },
  {
   "cell_type": "markdown",
   "id": "d81a6c06",
   "metadata": {},
   "source": [
    "#### Gemini key Loaded"
   ]
  },
  {
   "cell_type": "code",
   "execution_count": null,
   "id": "a87aeffe",
   "metadata": {},
   "outputs": [
    {
     "name": "stdout",
     "output_type": "stream",
     "text": [
      "api key configured\n"
     ]
    }
   ],
   "source": [
    "load_dotenv()\n",
    "\n",
    "# Your API Key setup\n",
    "GOOGLE_API_KEY = os.getenv(\"GOOGLE_API_KEY\")\n",
    "\n",
    "if GOOGLE_API_KEY is None:\n",
    "    raise ValueError(\"Google API Key is missing. Please set it in the .env file.\")\n",
    "\n",
    "# Configure the Generative AI library with the API key\n",
    "else:\n",
    "    genai.configure(api_key=GOOGLE_API_KEY)\n",
    "    print(\"api key configured\")\n"
   ]
  },
  {
   "cell_type": "markdown",
   "id": "de0caa4d",
   "metadata": {},
   "source": [
    "#### PDF extracted "
   ]
  },
  {
   "cell_type": "code",
   "execution_count": 130,
   "id": "af324e55",
   "metadata": {},
   "outputs": [
    {
     "name": "stdout",
     "output_type": "stream",
     "text": [
      "Document('AMFI_MF.pdf')\n"
     ]
    }
   ],
   "source": [
    "#doc = fitz.open(\"CleanBot_Robotic_Vacuum_Cleaner_FAQ.pdf\")\n",
    "doc = fitz.open(\"AMFI_MF.pdf\")\n",
    "print(doc)\n",
    "text = \"\"\n",
    "skip_keywords = [ \"disclaimer\", \"table of contents\", ]\n",
    "\n",
    "for i, page in enumerate(doc):\n",
    "\n",
    "    page_text = page.get_text(\"text\")\n",
    "\n",
    "    if i == 0:                          ## Specifically add this to avoid first page which is having disclaimer also\n",
    "        # print(\"First page preview:\\n\")\n",
    "        # print(doc[0].get_text(\"text\"))\n",
    "        continue\n",
    "\n",
    "    if any(kw in page_text for kw in skip_keywords):\n",
    "        continue        \n",
    "\n",
    "    text += page_text"
   ]
  },
  {
   "cell_type": "code",
   "execution_count": 131,
   "id": "d9ddcca5",
   "metadata": {},
   "outputs": [
    {
     "data": {
      "text/plain": [
       "'Introduction \\n \\nDifferent investment avenues are available to investors. Mutual funds also offer good investment \\nopportunities to the investors. Like all investments, they also carry certain risks. The investors \\nshould compare the risks and expected returns after adjustment of tax on various instruments \\nwhile taking investment decisions. The investors may seek advice from experts while making \\ninvestment decisions. \\nWith an objective to make the investors aware of functioning of mutual funds, an attempt has been \\nmade to provide information in question-answer format which may help the investors in taking \\ninvestment decisions. \\n1) What is a Mutual Fund? \\n \\nMutual fund is a mechanism for pooling money by issuing units to the investors and investing \\ninvestors funds in securities in accordance with objectives as disclosed in offer document. \\nInvestments in securities are spread across a wide cross-section of industries and sectors and \\nthus the risk is diversified because all stocks may not move in the same direction in the same \\nproportion at the same time. Mutual funds issue units to the investors in accordance with quantum \\nof money invested by them. Investors of mutual funds are known as unitholders. \\nThe profits or losses are shared by investors in proportion to their investments. Mutual funds \\nnormally come out with a number of schemes which are launched from time to time with different \\ninvestment objectives. A mutual fund is required to be registered with Securities and Exchange \\nBoard of India (SEBI) before it can collect funds from the public. \\n2) What is the history of Mutual Funds in India and role of SEBI in mutual funds industry? \\n \\nUnit Trust of India was the first mutual fund set up in India in the year 1963. In late 1980s, \\nGovernment allowed public sector banks and institutions to set up mutual funds. In the year 1992, \\nSecurities and Exchange Board of India (SEBI) Act was passed. The objectives of SEBI are to \\nprotect the interest of investors in securities and to promote the development of and to regulate \\nthe securities market. \\nAs far as mutual funds are concerned, SEBI formulates policies, regulates and supervises mutual \\nfunds with an aim to protect the interest of the investors. SEBI notified the regulations for mutual \\nfunds in 1993. Thereafter, mutual funds sponsored by private sector entities were allowed to enter \\nthe capital market. The regulations were fully revised in 1996 and have been amended thereafter \\nfrom time to time. SEBI also issues directions through circulars to mutual funds from time to time \\nto protect the interests of investors. \\n \\nAll mutual funds whether promoted by public sector or private sector entities, including those \\npromoted by foreign entities are governed by the same set of Regulations. There is no distinction \\nin regulatory requirements for these mutual funds and all are subject to monitoring and inspections \\nby SEBI.   \\n \\n3) How is a mutual fund set up? \\n \\nA mutual fund is set up in the form of a trust, which has sponsor, trustees, Asset Management \\nCompany (AMC) and custodian. The trust is established by a sponsor or more than one sponsor \\nwho is like promoter of a company. The trustees of the mutual fund hold its property for the benefit \\nof the unitholders. AMC approved by SEBI manages the funds by making investments in various \\ntypes of securities. Custodian, who is required to be registered with SEBI, holds the securities of \\nvarious schemes of the fund in its custody. The trustees are vested with the general power of \\nsupervision and direction over AMC. They monitor the performance and compliance of SEBI \\nRegulations by the mutual fund. \\nSEBI Regulations require that at least two-thirds of the directors of trustee company should be \\nindependent and should not be associated with the sponsors in any manner. Further, fifty per cent \\nof the directors in the board of AMC should be independent and should not be associated with \\nsponsor or its subsidiaries or the trustees in any manner. \\nAll mutual funds are required to be registered with SEBI before they launch any scheme. \\n \\n4) What is Net Asset Value (NAV) of a scheme? \\n \\nNAV is the unit price of a mutual fund scheme. The performance of a particular scheme of a mutual \\nfund is denoted by Net Asset Value (NAV). NAV indicates the price at which investors buy or \\nredeem mutual fund units. \\nNAV of a scheme is determined by dividing the net assets (Total Asset – Total Liabilities) of the \\nscheme by the total number of outstanding units on any particular date. For example, if the total \\nasset of a mutual fund scheme is INR 200 lakh and total liabilities is INR 10 lakh and 10 lakh units \\nare outstanding, then the NAV per unit of the fund is calculated as under: \\n \\nNet asset = Total Asset – Total Liabilities \\n                = INR 200 lakh – INR 10 lakh \\n                = INR 190 lakh \\nNAV        =  Net asset/total outstanding units \\n                = INR 19 (i.e.190 lakh/10 lakh).  \\n \\nNAV of a fund changes every day as a result of changes in the market price of the securities that \\nform a part of the portfolio. Therefore, NAV is determined on a daily basis and required to be \\ndisclosed by the mutual funds on a daily basis. NAV of schemes has to be updated in accordance \\nwith time lines mentioned under: \\n                                                                                                        (Timelines in Business days) \\nSr.no. \\nScheme type \\nTimeline \\n1 \\nAll schemes other than those mentioned below \\n11 PM on T day \\n2 \\nFor schemes having exposure to ETCDs (Exchange \\nTraded Commodity Derivatives)  \\n9 AM on T+1 day \\n3 \\nFund of Funds (FoFs) schemes \\n10 AM on T+1 day \\n4 \\nSchemes investing at least 80% of total assets in \\npermissible overseas investments  \\n10 AM on T+1 day \\n5 \\nIndex funds and ETFs investing at least 80% of total \\nassets in permissible overseas investments \\n6 \\nSchemes unable to disclose NAV as per timeline \\nmentioned above due to inability in capturing same day \\nvaluation of underlying investments \\nSuch time as per disclosure made \\nin SID along with reasons for such \\ndelayed disclosure \\n \\nT = date of transaction in mutual fund units in India \\n5) What is cut off timing and its role in determining the applicable NAV for transactions \\nin Mutual Fund scheme (s)? \\nThe purchase and redemption are done at the applicable NAV. In order to ensure fairness to \\ninvestors, SEBI has prescribed cut-off timings which are uniformly applicable for all mutual funds. \\nThese are provided below: \\n \\nType of Scheme  \\nTransaction type \\nCut \\noff  \\ntime \\nApplicable NAV \\nLiquid \\nfund \\nand \\nOvernight fund \\nPurchases \\nand \\nSwitch in \\n1.30 pm \\n\\uf0b7 where the application is received up to \\ncut off time 1.30 p.m. on a day and \\nfunds are available for utilization \\nbefore the cut-off time without availing \\nany credit facility, whether, intra-day or \\notherwise – the closing NAV of the day \\nimmediately preceding the day of \\nreceipt of application; \\n\\uf0b7 where the application is received after \\n1.30 p.m. on a day and funds are \\navailable for utilization on the same \\nday without availing any credit facility, \\nwhether, intra-day or otherwise – the \\nclosing NAV of the day immediately \\npreceding the next business day \\n\\uf0b7 If funds are not available for utilization, \\nirrespective of the time of receipt of \\napplication, the closing NAV of the day \\nimmediately preceding the day on \\nwhich the funds are available for \\nutilization. \\nRedemptions \\nand \\nSwitch Out \\n3.00 pm \\n\\uf0b7 Where the application is received up to \\n3.00 pm – the closing NAV of day \\nimmediately \\npreceding \\nthe \\nnext \\nbusiness day;  \\n\\uf0b7 Where the application is received after \\n3.00 pm – the closing NAV of the next \\nbusiness day. \\nEquity oriented funds \\nand \\ndebt \\nfunds \\n(except liquid \\nand overnight  \\nfunds) \\n1. Purchases \\nand Switch in \\n2. Redemptions \\nand \\nswitch \\nout \\n3.00 pm \\n\\uf0b7 If application is received and funds (for \\npurchase) are available for utilization \\nbefore cut off time, the closing NAV of \\nthe day on which the application is \\nreceived. \\n\\uf0b7 If the application is received after cut \\noff time, the closing NAV of the next \\nbusiness day will be applicable.  \\n\\uf0b7 If funds (for purchase) are not \\navailable for utilization, irrespective of \\nthe receipt time of application, closing \\nNAV of the day on which the funds are \\navailable \\nfor \\nutilization \\nwill \\nbe \\napplicable. \\nExamples: Assume that in a particular week, Monday, Wednesday and Thursday are business days \\nand Tuesday is a non-business day. \\n\\uf0b7 \\nAn investor submits an application on Monday to buy units of an equity mutual fund scheme for \\nINR 3,00,000. If an application is made on Monday and the fund gets realized on Wednesday by \\n2 pm, it will be Wednesday\\'s NAV. If funds are realized or available for utilisation on Wednesday \\nby 5 pm, then it will be Thursday\\'s NAV. \\n\\uf0b7 \\nAn investor makes an application to purchase units of a liquid fund. If an application is made on \\nMonday and the fund gets realized by 1 p.m. on Monday, it will be Sunday\\'s NAV. If it gets realized \\nby 3 pm on Monday, it will be Tuesday\\'s NAV. If it gets realized by 10 am on Wednesday, it will \\nbeTuesday\\'s NAV. \\n \\n6) What are the different types of mutual fund schemes? \\n \\nSchemes according to Maturity Period: \\n \\nA mutual fund scheme can be classified into open-ended scheme or close-ended scheme depending \\non its maturity period. \\nOpen-ended Fund/Scheme \\n \\nAn open-ended fund or scheme is one that is available for subscription and repurchase on a \\ncontinuous basis. These schemes do not have a fixed maturity period. Investors can conveniently buy \\nand sell units at Net Asset Value (NAV) per unit which is declared on a daily basis. The key feature of \\nopen-ended scheme is liquidity. \\nClose-ended Fund/Scheme \\n \\nA close-ended fund or scheme is one where the period of maturity of the scheme is fixed and the \\nsame is specified in the offer documents e.g. KIM, SID  at the time of launch of the scheme.  The fund \\nis open for subscription only during a specified period at the time of launch of the scheme. Investors \\ncan invest in the scheme at the time of the new fund offer and thereafter they can buy or sell the units \\nof the scheme on the stock exchanges where the units are listed. In order to provide an exit route to \\nthe investors, some close-ended funds give an option of selling back the units to the mutual fund \\nthrough periodic repurchase at NAV related prices and the same  options are  disclosed in the offer \\nDocuments.  \\n \\nSchemes according to Investment Objective: \\n \\nA scheme can also be classified as growth scheme, income scheme or balanced scheme \\nconsidering its investment objective. Such schemes may be open-ended or close-ended schemes \\nas described earlier. Such schemes may be classified mainly as follows: \\nGrowth/Equity Oriented Scheme \\n \\nThe aim of growth funds is to provide capital appreciation over the medium to long- term. Such \\nschemes normally invest a major part of their corpus in equities. Such funds have comparatively \\nhigh risks. These schemes provide different options to the investors like dividend option, growth, \\netc. and the investors may choose an option depending on their preferences. The investors must \\nindicate the option in the application form. The mutual funds also allow the investors to change \\nthe options at a later date. Growth schemes are good for investors having a long-term outlook \\nseeking appreciation over a period of time. \\nIncome/Debt Oriented Scheme \\n \\nThe aim of income funds is to provide regular and steady income to investors. Such schemes \\ngenerally invest in fixed income securities such as bonds, corporate debentures, Government \\nsecurities and money market instruments. Such funds are less risky compared to equity schemes. \\n \\nHowever, opportunities of capital appreciation are also limited in such funds. The NAVs of such \\nfunds are affected because of change in interest rates in the country. If the interest rates fall, \\nNAVs of such funds are likely to increase in the short run and vice versa. However, long term \\ninvestors may not bother about these fluctuations. \\n \\nBalanced/Hybrid Scheme \\n \\nThe aim of balanced schemes is to provide both growth and regular income as such schemes \\ninvest both in equities and fixed income securities in the proportion indicated in their offer \\ndocuments. These are appropriate for investors looking for moderate growth. They generally \\ninvest 40-60% in equity and debt instruments. These funds are also affected because of \\nfluctuations in share prices in the stock markets. However, NAVs of such funds are likely to be \\nless volatile compared to pure equity funds. \\nMoney Market or Liquid Schemes \\n \\nThese schemes are also income schemes and their aim is to provide easy liquidity, preservation \\nof capital and moderate income. \\nThese schemes invest exclusively in short-term instruments such as treasury bills, certificates of \\ndeposit, commercial paper and inter-bank call money, government securities, etc. Returns on \\nthese schemes fluctuate much less compared with other funds. These funds are appropriate for \\ncorporate and individual investors as a means to park their surplus funds for short periods. \\nGilt Funds \\n \\nThese funds invest exclusively in government securities. Government securities have no default \\nrisk. NAVs of these schemes also fluctuate due to change in interest rates and other economic \\nfactors as is the case with income or debt oriented schemes. \\nIndex Funds \\n \\nIndex Funds replicate the portfolio of a particular index such as the BSE Sensitive index (Sensex), \\nNSE 50 index (Nifty), etc. These schemes invest in the securities in the same weightage \\ncomprising of an index. NAVs of such schemes would rise or fall in accordance with the rise or \\nfall in the index, though not exactly by the same percentage due to some factors known as \\n“tracking error” in technical terms. Necessary disclosures in this regard are made in the offer \\ndocument of the mutual fund scheme. The tracking error refers to the annualized standard \\ndeviation of the difference in daily returns between the underlying index and the NAV of the Index. \\nFor Index Fund in existence for a period of less than one year, the annualized standard deviation \\nto be calculated based on available data. \\n \\n \\n \\n \\n \\n7) What are Sectoral fund and Thematic Funds? \\n \\nSectoral fund invests in stocks belonging to specific sector of the economy, in order to take \\nadvantages within the said sector. The examples of sectoral funds are: banking funds, Information \\nTechnology (IT), Pharmaceuticals etc. These funds are launched to get the benefit from growth \\nand performance of the particular sector. For example, technology sector would primarily invest \\nin tech companies only. The returns in these funds are dependent on the performance of the \\nrespective sectors/industry. \\nThematic funds invest in stocks across a specific theme. These funds focus on specific themes \\nor trends in the market. The themes can be based on economic trends, social changes, \\ntechnological advancements etc. Examples of these funds are MNC funds, PSU (public sector \\nunits) funds, energy funds. Compared to sectoral fund thematic funds are more broad-based, as \\nthey pick companies and sectors united by an idea. For instance, an infrastructure theme fund \\nwill invest in cement, power, steel, among other sectors.   \\n \\n8) Are there any mutual fund schemes launched with the objective to provide tax benefits? \\n \\nYes, certain mutual fund schemes, known as Equity Linked Savings Schemes (ELSS) are eligible \\nfor deduction under Section 80C of the Income Tax Act, 1961 (Old tax Regime). The provisions \\nrelating to ELSS are governed by Equity Linked Saving Scheme, 2005 notified by Ministry of \\nFinance. These schemes are growth oriented and invest pre-dominantly in equities. Their growth, \\nopportunities and risks associated are like any equity-oriented scheme. Certain mutual fund \\nretirement schemes have also been notified for tax benefit under section 80 C of the Income Tax \\nAct, 1961. \\n  \\nInvestors should note that the provisions relating to income tax deductions are governed by \\nIncome tax act, 1961 and subject to continuous changes/amendments.  \\n \\n \\n9) What is a Fund of Funds (FoF) scheme? \\n \\nA scheme that invests primarily in other schemes of the same mutual fund or other mutual funds \\nis known as a FoF scheme. A FoF scheme enables the investors to achieve greater diversification \\nthrough one scheme. It spreads risks across a greater universe. \\n \\n10)  What are Exchange Traded Funds (ETFs)? \\n \\nETFs are mutual fund units that investors can buy or sell at the stock exchange. This is in contrast \\nto a normal mutual fund unit that an investor buys or sells from the mutual fund (directly or through \\na distributor). In the ETF structure, the mutual fund does not deal directly with investors or \\ndistributors. Units are issued to a few designated large participants called Authorised Participants \\n(APs). The APs provide buy and sell quotes for the ETFs on the stock exchange, which enable \\ninvestors to buy and sell the ETFs at any given point of time when the stock markets are open for \\ntrading. \\n \\nETFs therefore trade like stocks and experience price changes throughout the day as they are \\nbought and sold. Buying and selling ETFs requires the investor to have demat and trading \\naccount. \\n \\n \\n11) What is a capital protection-oriented scheme? \\n \\nA capital protection-oriented scheme is typically a hybrid scheme that invests significantly in fixed-\\nincome securities and a part of its corpus in equities. These are close-ended schemes that come \\nin tenors of fixed maturity e.g. three to five years. \\nStructure of the scheme - Example \\n \\nIf the fund collects INR 100, it invests INR 80 in fixed-income securities and INR 20 in equities or \\nequity related instruments. The money is invested in such a way that the INR 80 portion is \\nexpected to grow to become INR 100 in three years (assuming that the scheme has a maturity \\nperiod of three years). Thus, the aim is to preserve the INR 100 capital till maturity of the scheme. \\nThus, the scheme is oriented towards protection of capital and not with guaranteed returns. \\nFurther, the orientation towards protection of capital originates from the portfolio structure of the \\nscheme and not from any bank guarantee or insurance cover. Investors are neither offered any \\nguaranteed/indicated returns nor any guarantee on repayment of capital by the scheme. \\n \\n12) What is entry load and exit load in mutual funds? \\nAn entry load can be defined as the amount or fee paid by an investor upon entering a scheme. \\nHowever, SEBI has abolished the practice of imposing entry loads on mutual funds. Hence, \\ncurrently the entry load is no longer permitted. \\nExit load is a fee or charge imposed on investors by a mutual fund when investors redeem/sell \\ntheir units before a specified period. The purpose of exit load is to discourage short-term trading \\nand to protect long-term investors from the potential adverse effects of short-term trading \\nactivities.  \\nThe information about the load structure can be found in mutual fund’s offer document or scheme \\ninformation document (SID). Exit load is calculated as a percentage of NAV.   \\nSuppose a mutual fund scheme charged exit load of 1% for redemption within 90 days from the \\ndate of purchase.  Assume that you redeem 1000 units of a scheme before 90 days of purchase \\nand NAV per unit is INR 50. The exit load will be = 1% X 1000 (numbers of units) X INR 50 (NAV \\nper unit) = INR 500. This amount will be deducted from redemption proceeds and you will get \\nredemption proceeds of INR 49500.  \\n \\n13) Can a mutual fund impose fresh load or increase the exit load beyond the level mentioned \\nin the offer documents? \\nMutual funds cannot increase the exit load beyond the level mentioned in the offer document. Any \\nchange in the load will be applicable only to prospective investments and not to the original \\ninvestments. In case of imposition of fresh loads or increase in existing loads, the mutual funds \\nare required to amend their offer documents. \\n \\n14) What is sale and repurchase/redemption price? \\n \\nThe price or NAV a unit holder is charged while investing in an open-ended scheme is called sale \\nprice. \\nRepurchase or redemption price is the price or NAV at which an open-ended scheme purchases \\nor redeems its units from the investors/unitholders. It may include exit load, if applicable. \\n \\n15) What is expense ratio? \\n \\nExpense ratio represents the annual fund operating expenses of a scheme, expressed as a \\npercentage of the fund’s daily net assets. Operating expenses of a scheme are administration, \\nmanagement, advertising related expenses, etc. \\nAn expense ratio of 1% per annum means that each year 1% of the fund’s total assets will be \\nused to cover expenses. Information on expense ratio that may be applicable to a scheme is \\nmentioned in the offer document. Currently, in India, the expense ratio is fungible, i.e., there is no \\nlimit on any particular type of allowed expense as long as the total expense ratio is within the \\nprescribed limit. You may refer to regulation 52 of the SEBI (Mutual Funds) Regulations, 1996, \\nfor limits on expense ratio. \\n \\n16) What are the various methods available to investors for investing in a scheme of a \\nmutual fund? \\n \\nInvestors can contact the agents and distributors of mutual funds who are spread all over the \\ncountry for necessary information and application forms. Investors must ensure that they invest \\nthrough Association of Mutual Funds in India (AMFI) registered distributors and that the distributor \\nhas a valid AMFI Registration Number (ARN). \\nInvestors can verify the registration status of a particular distributor whether he/she has been \\nsuspended/terminated from doing mutual fund business at http://www.amfiindia.com/locate-the-\\nnearest-financial-advisor. An employee of a corporate distributor is also required to have an \\nEmployee Unique Identification Number (EUIN). \\nThe distributors are required to disclose all the commissions (in the form of trail commission or \\nany other mode) payable to them for the different competing schemes of various mutual funds \\nfrom amongst which the scheme is being recommended to the investor. \\nForms can be deposited with mutual funds  through the agents and distributors who provide such \\nservices. These days, post offices and banks also distribute the units of mutual funds. However, \\nthe investors may please note that the mutual fund schemes being marketed by banks and post \\noffices should not be taken as their own schemes and there is no assurance of returns is given \\nby them. The only role of banks and post offices is to help in distribution of mutual funds schemes \\nto the investors. \\nInvestors should not be carried away by commission/gifts, if any, given by agents/distributors for \\ninvesting in a particular scheme.  \\nInvestors also have the option to invest directly with the mutual fund either by visiting the mutual \\nfund branch or online through mutual fund website. In addition, the investors can also invest \\nthrough MF central website/application. The details of MF Central may be accessed using \\nhttps://mfcentral.com and MFCentral  Mutual fund  App.  \\n \\n17) When will the investor get statement of account after investing in a mutual fund and \\nwhat is a consolidated account statement (CAS)? \\n \\nMutual funds are required to dispatch statements of accounts within five working days from the \\ndate of closure of the initial subscription of the scheme or from the date of receipt of the request \\nfrom the investors/unitholders. Mutual fund shall issue units in dematerialized form within two \\nworking days of the receipt of request from unit holder. \\nAlso, mutual funds are required to send confirmation specifying the number of units allotted to the \\ninvestor by  way  of  email  and/or  SMS‟s  to  the  investor’s  registered  email  address  and/or \\nmobile number as soon as possible but not later than five working days from the date of closure \\nof the initial subscription list and/or from the date of receipt of the request from the \\ninvestors/unitholders. \\n \\nMutual funds are required to issue consolidated account statement (CAS) for each calendar \\nmonth, on or before fifteenth day of the succeeding month, to the investors in whose folios \\ntransaction(s) has/have taken place during that month. \\nA CAS every half yearly (September/ March) is issued, detailing holding at the end of the six \\nmonth, across all schemes of all mutual funds, to all such investors in whose folios and demat \\naccount no transaction has taken place during that period. \\n \\n18) Do investors need to pay any commission to the distributor for selling mutual fund \\nschemes? \\n \\nAs stated above, no entry load can be charged for any mutual fund scheme. An investor can \\nchoose to pay upfront commission directly to the distributor, based on his assessment of various \\nfactors including the service rendered by the distributor. However, for investments made through \\na distributor, commission is paid by mutual fund to the distributor such that the total expense ratio \\nfor an investor is within the limits on expense ratio specified under regulation 52 of the SEBI \\n(Mutual Funds) Regulations, 1996. Hence, the cost borne by investors remains within the limit \\nprescribed under SEBI Regulations. \\n \\nFurther, a transaction charge of INR 150 and INR 100 per subscription of INR 10,000 and above \\nby a new and an existing investor, respectively, can be levied by distributor. This transaction \\ncharge can be levied only if a distributor has opted in to levy transaction charge for that type of \\nmutual fund scheme. Further, the transaction charge, if any, is to be deducted by the mutual fund \\nfrom the subscription amount and paid to the distributor and the balance is to be invested.  \\n \\n19) How does an investor know how much commission the distributor is earning and what \\nis the TER being charged in a scheme? \\nThe Consolidated Account Statement (CAS) issued to investors is required to provide information \\nin terms of total purchase value/cost of investment in each scheme. Further, CAS issued for the \\nhalf-year (ended September/March) also provides the amount of actual commission paid by \\nMutual Funds to distributors (in absolute terms) during the half-year period against the concerned \\ninvestor’s total investments in each mutual fund scheme. The term “commission” here refers to \\nall direct monetary payments and other payments made in the form of gifts/rewards, trips, event \\nsponsorships etc. by mutual funds to distributors. Further, a mention may be made in such \\nCAS indicating that the commission disclosed is gross commission and does not exclude costs \\nincurred by distributors such as GST (wherever applicable, as per existing rates), operating \\nexpenses, etc. \\nSuch half-yearly CAS is issued to all mutual fund investors, excluding those investors who do not \\nhave any holdings in mutual fund schemes and where no commission against their investment \\nhas been paid to distributors, during the concerned half-year period. \\nSuch half-yearly CAS are also required to disclose the scheme’s average Total Expense Ratio (in \\npercentage terms) for the half year period for each scheme’s applicable plan (regular or direct or \\nboth) where the concerned investor has actually invested. \\n \\n20) Can a mutual fund change the asset allocation while deploying funds of investors? \\nConsidering the market trends, any prudent fund manager can change the asset allocation, i.e., \\nhe can invest higher or lower percentage of the fund in equity or debt instruments compared to \\nwhat is disclosed in the offer document. It can be done on a short term basis on defensive \\nconsiderations i.e. to protect the NAV. Hence, the fund managers are allowed certain flexibility in \\naltering the asset allocation considering the interest of the investors. In case the mutual fund \\nwants to change the asset allocation on a permanent basis, they are required to inform the unit \\nholders and give them option to exit the scheme at prevailing NAV without any exit load. \\n \\n21) What is product labelling? \\nProduct labelling has been introduced to help investors have an easy understanding of the kind of \\nproduct/scheme they are investing in and its suitability to them.  \\n \\n    All the mutual funds are required to label their schemes on the parameters as mentioned under: \\na. Nature of scheme such as to create wealth or provide regular income in an indicative time \\nhorizon (short/ medium/ long term). \\n \\nb. A brief about the investment objective (in a single line sentence) followed by kind of product \\nin which investor is investing (Equity/Debt). \\n \\nc. The depiction of risk shall be through pictorial meter named \"Riskometer\" and this meter would \\nappropriately depict the level of risk in any specific scheme. Risk-o-meter shall have following \\nsix levels of risk for mutual fund schemes: \\n \\n \\n\\uf0b7 \\nLow Risk \\n\\uf0b7 \\nLow to Moderate Risk \\n\\uf0b7 \\nModerate Risk \\n\\uf0b7 \\nModerately High Risk \\n\\uf0b7 \\nHigh Risk and \\n\\uf0b7 \\nVery High Risk \\nTo know about the product labelling of the scheme investors should refer to the front page of \\ninitial offering application forms, Key Information Memorandum (KIM) and Scheme Information \\nDocuments (SIDs, Common application form – along with the information about the scheme, \\nand Scheme advertisements.  \\nHowever, investors should consult their financial advisers if they are not clear about the \\nsuitability of the product. \\n \\n22)  What is application supported by blocked amount (ASBA)? \\n \\nASBA is a facility provided by banks to investors in new fund offers (NFOs) of mutual funds. If \\ninvestors apply for an NFO via ASBA, their application amount gets blocked in their bank account. \\nWhile the amount stays in the account, it cannot be used until the MF unit allotment is done. In \\ncase of unsuccessful subscription i.e. getting subscription of less than 90% of the minimum \\nsubscription amount by the mutual fund, the blocked amount is unblocked. For more information, \\nplease \\nrefer \\nto \\nFAQs \\non \\nASBA \\navailable \\non \\nSEBI \\nwebsite \\nat \\nhttp://www.sebi.gov.in/cms/sebi_data/commondocs/asbaprocess1_p.pdf. \\n \\n23) How to fill up the application form of a mutual fund scheme? \\n \\nAn investor must mention clearly his name, address, number of units applied for and such other \\ninformation as required in the application form. Know your Customer (KYC) documents need to \\nbe submitted by a first time investor. \\n \\n24) What is a direct plan? \\n \\nSEBI has mandated mutual funds to compulsorily launch a direct plan for direct investments, i.e., \\ninvestments not routed through a distributor, from 01 January 2013 in addition to regular plan. \\nSuch direct plan has a lower expense ratio compared to regular plan as there is no distribution \\nexpenses and no commission is to be paid from such plans. The direct plan also has a separate \\nNAV. \\nInvestment in direct plans can be made in lump sum, i.e. a onetime payment, or through a \\nSystematic Investment Plan (SIP). \\n \\n25) What is a Systematic Investment Plan (SIP)? \\n \\nA SIP allows investors to save and invest periodically over a longer period of time. It is a \\nconvenient way to \"invest as you earn\" and offers the investor an opportunity to enter the market \\nregularly, thus averaging the acquisition cost of Units. Any investor/unitholder can avail of this \\nfacility subject to certain terms and conditions contained in the Application Form. The \\nFundamental Attributes and other terms and conditions regarding purchase/redemption, price and \\nrelated matters are the same as contained in the offer document. \\nFor example \\nX decides to invest INR 1,000 per month for a year. When the market price of shares falls, X \\nbenefits by purchasing more units; and is protected by purchasing less when the price rises as \\nexplained below. \\n \\nDate \\nNAV \\nApprox. number of units \\nthe investor   will get at \\nINR 1000 \\n1-Jan \\n10 \\n                100 \\n1-Feb \\n10.5 \\n95.24 \\n1-Mar \\n11 \\n90.91 \\n1-Apr \\n9.5 \\n105.26 \\n1-May \\n                 9 \\n111.11 \\n1-Jun \\n11.5 \\n86.96 \\n1-Jul \\n11 \\n90.91 \\n1-Aug \\n10.5 \\n95.24 \\n1-Sep \\n10 \\n                100 \\n1-Oct \\n9.5 \\n105.26 \\n1-Nov \\n10 \\n                100 \\n1-Dec \\n9.5 \\n105.26 \\n1186.15 \\n \\nWithin one year, X has 1,186 units by investing just INR 1,000 every month at an average cost of \\n12000/1186.15 = 10.1170. This is as against 12,000/10 = 1,000 units or 12000/11.5 = 1043.5 \\nunits or 12000/9 = 1,333.3 units if X had invested lump sum on 1 Jan, 1 Jun or 1 May, respectively. \\n \\n26) What is Systematic Transfer Plan (STP)? \\n \\nSTP is a facility allowing investors to transfer their invested amount on a periodic basis from one \\nscheme to another schemes launched by the same Mutual fund by giving a single instruction. \\n \\n27) What is Systematic Withdrawal Plan (SWP)? \\n \\nSWP allows the investor/unitholder to withdraw a specified sum of money each \\nmonth/quarter/half-yearly/yearly from his investments in the Schemes. SWP is ideal for investors \\nseeking a regular inflow of funds for their needs \\n \\n28) What is Switching? \\n \\nSwitching is the process of redeeming one fund and purchasing another within the same AMC. \\nThis allows investors to reallocate their investments based on their changing financial goals and \\nmarket conditions.  \\n \\n29) Is it possible to invest in mutual fund schemes using cash? \\n \\nYes, cash investments up to INR 50,000 per investor, per mutual fund, per financial year can be \\nmade in mutual funds. However, the limit of INR 50,000 would be an umbrella limit for investments \\nby an investor through both e-wallet and/or cash per mutual fund, per financial year. Although \\ninvestment can be made in cash but repayment in form of redemptions, IDCW/dividend payments \\ncan only be made through the banking channel. The pay-out bank details have to be provided in \\nthe application form. \\n \\n30) Can non-resident Indians (NRIs) invest in mutual funds? \\n \\nYes, non-resident Indians can also invest in mutual funds. Necessary details in this respect are \\ngiven in the offer documents of the schemes. \\n \\n \\n31) What should an investor look into an offer document? \\n \\nMutual fund investments are subject to market risks. An investor should carefully read all the \\nscheme related documents before investing. An abridged offer document known as [Key \\nInformation Memorandum (KIM)], which contains information in concise form, is required to be \\ngiven to the prospective investor by the mutual fund. The application form for subscription to a \\nscheme is an integral part of the offer document. SEBI has prescribed minimum disclosures in \\nthe offer document. \\n \\n32) What is IDCW (Dividend plan) in mutual funds? \\nSEBI on April 1, 2021 has renamed the dividend option in mutual funds to Income Distribution \\ncum Capital Withdrawal (IDCW). The change was made to clarify the difference between \\ndividends from stocks and mutual funds and to avoid confusion that the dividend option was a \\nguaranteed bonus. \\n \\n33) What is the timeline for transfer of IDCW and redemption proceeds to \\ninvestors/unitholders:  \\n \\nThe payment of IDCW (dividend) proceeds to the investors/unitholders shall be made within seven \\nworking days from the record date*. The transfer of redemption or repurchase proceeds to the \\nunitholders shall be made within three working days from the date of redemption or repurchase and \\nfive working days for schemes investing at least 80% of total assets in permissible overseas \\ninvestments. In case of failures to dispatch the redemption/repurchase proceeds within the \\nstipulated time period, the mutual fund is liable to pay interest as specified by SEBI from time to \\ntime (15% p.a. at present) for the period of delay.  \\n*Record date is the date which will be considered for the purpose of determining the eligibility of \\ninvestors whose names appear on the register of unit holders/investors for receiving IDCW. \\n \\n34) Can a mutual fund change the nature of the scheme from the one specified in the offer \\ndocument? \\nYes, mutual funds can change the nature of their schemes known as fundamental attributes \\n(structure, investment pattern, terms of issue etc.), but they must follow certain procedures as \\nenumerated below: \\n\\uf0b7 \\nSend written communication to all unit holders about the proposed changes.  \\n\\uf0b7 \\nThe mutual fund must publish an advertisement in an English daily with nationwide \\ncirculation and in a newspaper in the language of the region where the mutual fund\\'s head \\noffice is located  \\n\\uf0b7 \\nThe mutual fund must give unit holders a 30-day window to exit the scheme without paying \\nan exit load  \\n\\uf0b7 \\nSeek prior approval from SEBI to change any fundamental attributes of the scheme. \\n The mutual funds are also required to follow similar procedure (seeking positive consent from \\nthe investors) while converting the scheme from close-ended to open-ended scheme. \\n \\n35) How will an investor come to know about the changes, if any, which may occur in the \\nmutual fund? \\nThere may be changes from time to time in a mutual fund. The mutual funds are required to inform \\nany material changes to their investors/unit holders. Apart from it, many mutual funds send \\nnewsletters to their investors. At present, Scheme Information Document (SID) is required to be \\nrevised and updated within one month from the end of the half-year, based on the relevant data \\nand information as at the end of September and March respectively. In the meantime, the \\ninvestors are informed about the material changes by way of addendum to the offer document. \\n \\n \\n36) How to know the performance of a mutual fund scheme? \\n \\nThe performance of a scheme is reflected in its NAV which is disclosed on daily basis. The NAVs \\nof mutual funds are required to be published on the web sites of mutual funds. All mutual funds \\nare also required to put their NAVs on the web site of Association of Mutual Funds in India (AMFI) \\nwww.amfiindia.com and thus the investors can access NAVs of all mutual funds at one place. \\nAlso, each mutual fund is required to have a dashboard on its website providing performance and \\nkey disclosures pertaining to each scheme managed by the mutual fund. \\nThe mutual funds are also required to publish their performance in the form of half-yearly results \\nwhich also include their returns over a period of time i.e. last six months, 1 year, 3 years, 5 years \\nand since inception of schemes. Investors can also look into other details like percentage of \\nexpenses of total assets as these have an effect on the return and other useful information in the \\nsame half-yearly format. \\nThe mutual funds are also required to send annual report or abridged annual report to the \\nunitholders at the end of the year. \\nInvestors can compare the performance of their schemes with those of other mutual funds under \\nthe same category. They can also compare the performance of equity oriented schemes with the \\nbenchmarks like BSE Sensitive Index, Nifty, etc. \\n \\n37) How to know where the mutual fund scheme has invested the money mobilized from \\ninvestors? \\nThe mutual funds are required to disclose full portfolios of all of their schemes on a monthly basis \\non their website and on the website of AMFI within 10 days from the close of each month/ half-\\nyear respectively in a user-friendly and downloadable spreadsheet format. For debt schemes, \\nsuch disclosure is done on fortnightly basis within 5 days of every fortnight.    \\nIn case of unit holders whose e-mail addresses are registered, the Mutual Funds are required to \\nsend via email both the monthly and half-yearly statement of scheme portfolio within 10 days from \\nthe close of each month/ half-year respectively. Mutual Funds are also required to publish an \\nadvertisement every half-year disclosing the hosting of the half-yearly statement of its schemes \\nportfolio on their respective website and on the website of AMFI and the modes such as SMS, \\ntelephone, email or written request (letter) through which a unit holder can submit a request for a \\nphysical or electronic copy of the statement of scheme portfolio. Such advertisement to be \\npublished in the all India edition of at least two daily newspapers, one each in English and Hindi. \\nMutual Funds are required to provide a physical copy of the statement of its scheme portfolio, \\nwithout charging any cost, on specific request received from a unit holder. \\nThe scheme portfolio shows investment made in each security i.e. equity, debentures, money \\nmarket instruments, government securities, etc. and their quantity, market value and % to NAV. \\nThese portfolio statements are also required to disclose illiquid securities in the portfolio, \\ninvestment made in rated and unrated debt securities, non-performing assets (NPAs), etc. \\n \\n \\n \\n \\n \\n38) Is there any difference between investing in a mutual fund and in an initial public \\noffering (IPO) of a company? \\nYes, there is a difference. Initial Public Offering (IPO) is offered by a company to directly raise \\nmoney for a single company as per the stated objective. In the case of mutual funds, the money \\ngarnered is used for investing in eligible securities such as equity and debt instruments of basket \\nof companies, money market instruments, gold, etc.  \\n \\n39) Where can an investor look for information on mutual funds? \\n \\nAlmost all the mutual funds have their own web sites, where details of NAVs,SIDs ,KIMs and \\nportfolio of the schemes etc. are readily available. Investors can also access the NAVs of all \\nmutual funds at the web site of Association of mutual funds in India (AMFI) www.amfiindia.com. \\n \\nInvestors can log on to the web site of SEBI www.sebi.gov.in and go to “Mutual Funds” section \\nfor information on SEBI regulations and guidelines, data on mutual funds, draft offer documents \\nfiled by mutual funds, etc. Also, in the annual reports of SEBI available on the web site, information \\non mutual funds is given. \\nThere are a number of other web sites which give a lot of information of various schemes of \\nmutual funds including returns over a period of time. Many newspapers also publish useful \\ninformation on mutual funds on daily and weekly basis. \\nInvestors may also approach their financial advisors to guide them in this regard. \\n \\n40) How can an investor view unclaimed IDCW / Redemption amount lying in their folios, if \\nany, with a mutual fund and process to claim it? \\nInvestor can find the details of unclaimed amounts on respective website of mutual fund upon key \\nin the necessary information i.e. folio number, date of birth and registered mobile number etc.  \\n \\nTo know the process of claiming unclaimed IDCW/Redemption amount, investor should refer to \\nthe concerned website of the mutual fund.  \\nThe information on unclaimed amount along with its prevailing value (based on income earned \\non deployment of such unclaimed amount) is separately disclosed to investors through the \\nperiodic statement of accounts/CAS sent to the investors. \\n \\n41) Can an investor appoint a nominee for his investment in units of a mutual fund? \\n \\nYes. Regulation 29A of SEBI (Mutual Fund) Regulations, 1996, notifies that the mutual fund shall \\nprovide nomination facility to the unit holders to nominate a  person  in whose favour the units \\nshall be transmitted in the event of death of the unit holder. An investor, investing in mutual fund  \\nunits  has to provide nomination or opt out  of  nomination  through  physical  or  online mode. \\nThe requirement of nomination is optional for jointly held folios.  A person may nominate upto \\nthree persons and clearly indicate the percentage of allocation/share in favour of each of the \\nnominee against their names, and such allocation/share shall be in whole numbers without any \\ndecimals. Further an individual may appoint different nominees for different schemes. Non \\nindividuals including society, trust, body corporate, partnership firm, Karta of Hindu Undivided \\nFamily, holder of Power of Attorney cannot nominate.  \\n \\n42) If mutual fund scheme is wound up, what happens to money invested? \\n \\nIn case of winding up of a scheme, the proceeds of sale realised by disposing of the assets of the \\nscheme after adjustment of liabilities   as are due and payable under the scheme and after making \\nappropriate provision for meeting the expenses connected with such winding up, the balance shall \\nbe paid to the investors/unitholders in proportion to their respective interest in the assets of the \\nscheme. Unitholders are entitled to receive a report on winding up from the mutual funds which \\ngives all necessary details.  \\n \\n43) Where can investors lodge their complaints? \\n \\nThe grievance redressal and dispute mechanism is mentioned in the offer documents and website \\nof the respective mutual fund. Investors should approach the concerned Mutual Fund / Investor \\nService Centre of the Mutual Fund for resolution of their complaints. Details regarding the name \\naddress, and phone number of the investor relation officer whom should be approach in case of \\nany query, complaints etc. can be found in the offer document/SAI of the respective mutual fund. \\nIn case of non redressal of the complaint, the investors can approach SEBI for redressing their \\ncomplaints. Investor may lodge their complaints through SCORES (SEBI Complaints Redress \\nSystem – https://scores.sebi.gov.in) or by sending their complaints on the address given below:  \\nSecurities and Exchange Board of India \\nOffice of Investor Assistance and Education,  \\nSecurities and Exchange Board of India, \\nSEBI Bhavan II \\nPN-C7, G Block BKC,  \\nBandra Kurla Complex, Bandra East, Mumbai, Maharashtra 400051 \\nInvestors can lodge their complaint through SEBI SCORES mobile app also. \\n \\n \\n \\n \\n'"
      ]
     },
     "execution_count": 131,
     "metadata": {},
     "output_type": "execute_result"
    }
   ],
   "source": [
    "text"
   ]
  },
  {
   "cell_type": "code",
   "execution_count": 132,
   "id": "72b103b6",
   "metadata": {},
   "outputs": [],
   "source": [
    "import re\n",
    "\n",
    "# collapse all whitespace to single space\n",
    "documents = re.sub(r'\\s+', ' ', text)\n",
    "\n",
    "# remove isolated characters (except numbers or words)\n",
    "documents = re.sub(r'\\b\\w\\b', '', documents)\n",
    "\n",
    "documents = documents.strip()\n"
   ]
  },
  {
   "cell_type": "code",
   "execution_count": 133,
   "id": "c8d6f720",
   "metadata": {},
   "outputs": [
    {
     "data": {
      "text/plain": [
       "'Introduction Different investment avenues are available to investors. Mutual funds also offer good investment opportunities to the investors. Like all investments, they also carry certain risks. The investors should compare the risks and expected returns after adjustment of tax on various instruments while taking investment decisions. The investors may seek advice from experts while making investment decisions. With an objective to make the investors aware of functioning of mutual funds, an attempt has been made to provide information in question-answer format which may help the investors in taking investment decisions. ) What is  Mutual Fund? Mutual fund is  mechanism for pooling money by issuing units to the investors and investing investors funds in securities in accordance with objectives as disclosed in offer document. Investments in securities are spread across  wide cross-section of industries and sectors and thus the risk is diversified because all stocks may not move in the same direction in the same proportion at the same time. Mutual funds issue units to the investors in accordance with quantum of money invested by them. Investors of mutual funds are known as unitholders. The profits or losses are shared by investors in proportion to their investments. Mutual funds normally come out with  number of schemes which are launched from time to time with different investment objectives.  mutual fund is required to be registered with Securities and Exchange Board of India (SEBI) before it can collect funds from the public. ) What is the history of Mutual Funds in India and role of SEBI in mutual funds industry? Unit Trust of India was the first mutual fund set up in India in the year 1963. In late 1980s, Government allowed public sector banks and institutions to set up mutual funds. In the year 1992, Securities and Exchange Board of India (SEBI) Act was passed. The objectives of SEBI are to protect the interest of investors in securities and to promote the development of and to regulate the securities market. As far as mutual funds are concerned, SEBI formulates policies, regulates and supervises mutual funds with an aim to protect the interest of the investors. SEBI notified the regulations for mutual funds in 1993. Thereafter, mutual funds sponsored by private sector entities were allowed to enter the capital market. The regulations were fully revised in 1996 and have been amended thereafter from time to time. SEBI also issues directions through circulars to mutual funds from time to time to protect the interests of investors. All mutual funds whether promoted by public sector or private sector entities, including those promoted by foreign entities are governed by the same set of Regulations. There is no distinction in regulatory requirements for these mutual funds and all are subject to monitoring and inspections by SEBI. ) How is  mutual fund set up?  mutual fund is set up in the form of  trust, which has sponsor, trustees, Asset Management Company (AMC) and custodian. The trust is established by  sponsor or more than one sponsor who is like promoter of  company. The trustees of the mutual fund hold its property for the benefit of the unitholders. AMC approved by SEBI manages the funds by making investments in various types of securities. Custodian, who is required to be registered with SEBI, holds the securities of various schemes of the fund in its custody. The trustees are vested with the general power of supervision and direction over AMC. They monitor the performance and compliance of SEBI Regulations by the mutual fund. SEBI Regulations require that at least two-thirds of the directors of trustee company should be independent and should not be associated with the sponsors in any manner. Further, fifty per cent of the directors in the board of AMC should be independent and should not be associated with sponsor or its subsidiaries or the trustees in any manner. All mutual funds are required to be registered with SEBI before they launch any scheme. ) What is Net Asset Value (NAV) of  scheme? NAV is the unit price of  mutual fund scheme. The performance of  particular scheme of  mutual fund is denoted by Net Asset Value (NAV). NAV indicates the price at which investors buy or redeem mutual fund units. NAV of  scheme is determined by dividing the net assets (Total Asset – Total Liabilities) of the scheme by the total number of outstanding units on any particular date. For example, if the total asset of  mutual fund scheme is INR 200 lakh and total liabilities is INR 10 lakh and 10 lakh units are outstanding, then the NAV per unit of the fund is calculated as under: Net asset = Total Asset – Total Liabilities = INR 200 lakh – INR 10 lakh = INR 190 lakh NAV = Net asset/total outstanding units = INR 19 (..190 lakh/10 lakh). NAV of  fund changes every day as  result of changes in the market price of the securities that form  part of the portfolio. Therefore, NAV is determined on  daily basis and required to be disclosed by the mutual funds on  daily basis. NAV of schemes has to be updated in accordance with time lines mentioned under: (Timelines in Business days) Sr.no. Scheme type Timeline  All schemes other than those mentioned below 11 PM on  day  For schemes having exposure to ETCDs (Exchange Traded Commodity Derivatives)  AM on + day  Fund of Funds (FoFs) schemes 10 AM on + day  Schemes investing at least 80% of total assets in permissible overseas investments 10 AM on + day  Index funds and ETFs investing at least 80% of total assets in permissible overseas investments  Schemes unable to disclose NAV as per timeline mentioned above due to inability in capturing same day valuation of underlying investments Such time as per disclosure made in SID along with reasons for such delayed disclosure  = date of transaction in mutual fund units in India ) What is cut off timing and its role in determining the applicable NAV for transactions in Mutual Fund scheme ()? The purchase and redemption are done at the applicable NAV. In order to ensure fairness to investors, SEBI has prescribed cut-off timings which are uniformly applicable for all mutual funds. These are provided below: Type of Scheme Transaction type Cut off time Applicable NAV Liquid fund and Overnight fund Purchases and Switch in .30 pm \\uf0b7 where the application is received up to cut off time .30 .. on  day and funds are available for utilization before the cut-off time without availing any credit facility, whether, intra-day or otherwise – the closing NAV of the day immediately preceding the day of receipt of application; \\uf0b7 where the application is received after .30 .. on  day and funds are available for utilization on the same day without availing any credit facility, whether, intra-day or otherwise – the closing NAV of the day immediately preceding the next business day \\uf0b7 If funds are not available for utilization, irrespective of the time of receipt of application, the closing NAV of the day immediately preceding the day on which the funds are available for utilization. Redemptions and Switch Out .00 pm \\uf0b7 Where the application is received up to .00 pm – the closing NAV of day immediately preceding the next business day; \\uf0b7 Where the application is received after .00 pm – the closing NAV of the next business day. Equity oriented funds and debt funds (except liquid and overnight funds) . Purchases and Switch in . Redemptions and switch out .00 pm \\uf0b7 If application is received and funds (for purchase) are available for utilization before cut off time, the closing NAV of the day on which the application is received. \\uf0b7 If the application is received after cut off time, the closing NAV of the next business day will be applicable. \\uf0b7 If funds (for purchase) are not available for utilization, irrespective of the receipt time of application, closing NAV of the day on which the funds are available for utilization will be applicable. Examples: Assume that in  particular week, Monday, Wednesday and Thursday are business days and Tuesday is  non-business day. \\uf0b7 An investor submits an application on Monday to buy units of an equity mutual fund scheme for INR ,00,000. If an application is made on Monday and the fund gets realized on Wednesday by  pm, it will be Wednesday\\' NAV. If funds are realized or available for utilisation on Wednesday by  pm, then it will be Thursday\\' NAV. \\uf0b7 An investor makes an application to purchase units of  liquid fund. If an application is made on Monday and the fund gets realized by  .. on Monday, it will be Sunday\\' NAV. If it gets realized by  pm on Monday, it will be Tuesday\\' NAV. If it gets realized by 10 am on Wednesday, it will beTuesday\\' NAV. ) What are the different types of mutual fund schemes? Schemes according to Maturity Period:  mutual fund scheme can be classified into open-ended scheme or close-ended scheme depending on its maturity period. Open-ended Fund/Scheme An open-ended fund or scheme is one that is available for subscription and repurchase on  continuous basis. These schemes do not have  fixed maturity period. Investors can conveniently buy and sell units at Net Asset Value (NAV) per unit which is declared on  daily basis. The key feature of open-ended scheme is liquidity. Close-ended Fund/Scheme  close-ended fund or scheme is one where the period of maturity of the scheme is fixed and the same is specified in the offer documents .. KIM, SID at the time of launch of the scheme. The fund is open for subscription only during  specified period at the time of launch of the scheme. Investors can invest in the scheme at the time of the new fund offer and thereafter they can buy or sell the units of the scheme on the stock exchanges where the units are listed. In order to provide an exit route to the investors, some close-ended funds give an option of selling back the units to the mutual fund through periodic repurchase at NAV related prices and the same options are disclosed in the offer Documents. Schemes according to Investment Objective:  scheme can also be classified as growth scheme, income scheme or balanced scheme considering its investment objective. Such schemes may be open-ended or close-ended schemes as described earlier. Such schemes may be classified mainly as follows: Growth/Equity Oriented Scheme The aim of growth funds is to provide capital appreciation over the medium to long- term. Such schemes normally invest  major part of their corpus in equities. Such funds have comparatively high risks. These schemes provide different options to the investors like dividend option, growth, etc. and the investors may choose an option depending on their preferences. The investors must indicate the option in the application form. The mutual funds also allow the investors to change the options at  later date. Growth schemes are good for investors having  long-term outlook seeking appreciation over  period of time. Income/Debt Oriented Scheme The aim of income funds is to provide regular and steady income to investors. Such schemes generally invest in fixed income securities such as bonds, corporate debentures, Government securities and money market instruments. Such funds are less risky compared to equity schemes. However, opportunities of capital appreciation are also limited in such funds. The NAVs of such funds are affected because of change in interest rates in the country. If the interest rates fall, NAVs of such funds are likely to increase in the short run and vice versa. However, long term investors may not bother about these fluctuations. Balanced/Hybrid Scheme The aim of balanced schemes is to provide both growth and regular income as such schemes invest both in equities and fixed income securities in the proportion indicated in their offer documents. These are appropriate for investors looking for moderate growth. They generally invest 40-60% in equity and debt instruments. These funds are also affected because of fluctuations in share prices in the stock markets. However, NAVs of such funds are likely to be less volatile compared to pure equity funds. Money Market or Liquid Schemes These schemes are also income schemes and their aim is to provide easy liquidity, preservation of capital and moderate income. These schemes invest exclusively in short-term instruments such as treasury bills, certificates of deposit, commercial paper and inter-bank call money, government securities, etc. Returns on these schemes fluctuate much less compared with other funds. These funds are appropriate for corporate and individual investors as  means to park their surplus funds for short periods. Gilt Funds These funds invest exclusively in government securities. Government securities have no default risk. NAVs of these schemes also fluctuate due to change in interest rates and other economic factors as is the case with income or debt oriented schemes. Index Funds Index Funds replicate the portfolio of  particular index such as the BSE Sensitive index (Sensex), NSE 50 index (Nifty), etc. These schemes invest in the securities in the same weightage comprising of an index. NAVs of such schemes would rise or fall in accordance with the rise or fall in the index, though not exactly by the same percentage due to some factors known as “tracking error” in technical terms. Necessary disclosures in this regard are made in the offer document of the mutual fund scheme. The tracking error refers to the annualized standard deviation of the difference in daily returns between the underlying index and the NAV of the Index. For Index Fund in existence for  period of less than one year, the annualized standard deviation to be calculated based on available data. ) What are Sectoral fund and Thematic Funds? Sectoral fund invests in stocks belonging to specific sector of the economy, in order to take advantages within the said sector. The examples of sectoral funds are: banking funds, Information Technology (IT), Pharmaceuticals etc. These funds are launched to get the benefit from growth and performance of the particular sector. For example, technology sector would primarily invest in tech companies only. The returns in these funds are dependent on the performance of the respective sectors/industry. Thematic funds invest in stocks across  specific theme. These funds focus on specific themes or trends in the market. The themes can be based on economic trends, social changes, technological advancements etc. Examples of these funds are MNC funds, PSU (public sector units) funds, energy funds. Compared to sectoral fund thematic funds are more broad-based, as they pick companies and sectors united by an idea. For instance, an infrastructure theme fund will invest in cement, power, steel, among other sectors. ) Are there any mutual fund schemes launched with the objective to provide tax benefits? Yes, certain mutual fund schemes, known as Equity Linked Savings Schemes (ELSS) are eligible for deduction under Section 80C of the Income Tax Act, 1961 (Old tax Regime). The provisions relating to ELSS are governed by Equity Linked Saving Scheme, 2005 notified by Ministry of Finance. These schemes are growth oriented and invest pre-dominantly in equities. Their growth, opportunities and risks associated are like any equity-oriented scheme. Certain mutual fund retirement schemes have also been notified for tax benefit under section 80  of the Income Tax Act, 1961. Investors should note that the provisions relating to income tax deductions are governed by Income tax act, 1961 and subject to continuous changes/amendments. ) What is  Fund of Funds (FoF) scheme?  scheme that invests primarily in other schemes of the same mutual fund or other mutual funds is known as  FoF scheme.  FoF scheme enables the investors to achieve greater diversification through one scheme. It spreads risks across  greater universe. 10) What are Exchange Traded Funds (ETFs)? ETFs are mutual fund units that investors can buy or sell at the stock exchange. This is in contrast to  normal mutual fund unit that an investor buys or sells from the mutual fund (directly or through  distributor). In the ETF structure, the mutual fund does not deal directly with investors or distributors. Units are issued to  few designated large participants called Authorised Participants (APs). The APs provide buy and sell quotes for the ETFs on the stock exchange, which enable investors to buy and sell the ETFs at any given point of time when the stock markets are open for trading. ETFs therefore trade like stocks and experience price changes throughout the day as they are bought and sold. Buying and selling ETFs requires the investor to have demat and trading account. 11) What is  capital protection-oriented scheme?  capital protection-oriented scheme is typically  hybrid scheme that invests significantly in fixed- income securities and  part of its corpus in equities. These are close-ended schemes that come in tenors of fixed maturity .. three to five years. Structure of the scheme - Example If the fund collects INR 100, it invests INR 80 in fixed-income securities and INR 20 in equities or equity related instruments. The money is invested in such  way that the INR 80 portion is expected to grow to become INR 100 in three years (assuming that the scheme has  maturity period of three years). Thus, the aim is to preserve the INR 100 capital till maturity of the scheme. Thus, the scheme is oriented towards protection of capital and not with guaranteed returns. Further, the orientation towards protection of capital originates from the portfolio structure of the scheme and not from any bank guarantee or insurance cover. Investors are neither offered any guaranteed/indicated returns nor any guarantee on repayment of capital by the scheme. 12) What is entry load and exit load in mutual funds? An entry load can be defined as the amount or fee paid by an investor upon entering  scheme. However, SEBI has abolished the practice of imposing entry loads on mutual funds. Hence, currently the entry load is no longer permitted. Exit load is  fee or charge imposed on investors by  mutual fund when investors redeem/sell their units before  specified period. The purpose of exit load is to discourage short-term trading and to protect long-term investors from the potential adverse effects of short-term trading activities. The information about the load structure can be found in mutual fund’ offer document or scheme information document (SID). Exit load is calculated as  percentage of NAV. Suppose  mutual fund scheme charged exit load of % for redemption within 90 days from the date of purchase. Assume that you redeem 1000 units of  scheme before 90 days of purchase and NAV per unit is INR 50. The exit load will be = %  1000 (numbers of units)  INR 50 (NAV per unit) = INR 500. This amount will be deducted from redemption proceeds and you will get redemption proceeds of INR 49500. 13) Can  mutual fund impose fresh load or increase the exit load beyond the level mentioned in the offer documents? Mutual funds cannot increase the exit load beyond the level mentioned in the offer document. Any change in the load will be applicable only to prospective investments and not to the original investments. In case of imposition of fresh loads or increase in existing loads, the mutual funds are required to amend their offer documents. 14) What is sale and repurchase/redemption price? The price or NAV  unit holder is charged while investing in an open-ended scheme is called sale price. Repurchase or redemption price is the price or NAV at which an open-ended scheme purchases or redeems its units from the investors/unitholders. It may include exit load, if applicable. 15) What is expense ratio? Expense ratio represents the annual fund operating expenses of  scheme, expressed as  percentage of the fund’ daily net assets. Operating expenses of  scheme are administration, management, advertising related expenses, etc. An expense ratio of % per annum means that each year % of the fund’ total assets will be used to cover expenses. Information on expense ratio that may be applicable to  scheme is mentioned in the offer document. Currently, in India, the expense ratio is fungible, .., there is no limit on any particular type of allowed expense as long as the total expense ratio is within the prescribed limit. You may refer to regulation 52 of the SEBI (Mutual Funds) Regulations, 1996, for limits on expense ratio. 16) What are the various methods available to investors for investing in  scheme of  mutual fund? Investors can contact the agents and distributors of mutual funds who are spread all over the country for necessary information and application forms. Investors must ensure that they invest through Association of Mutual Funds in India (AMFI) registered distributors and that the distributor has  valid AMFI Registration Number (ARN). Investors can verify the registration status of  particular distributor whether he/she has been suspended/terminated from doing mutual fund business at http://www.amfiindia.com/locate-the- nearest-financial-advisor. An employee of  corporate distributor is also required to have an Employee Unique Identification Number (EUIN). The distributors are required to disclose all the commissions (in the form of trail commission or any other mode) payable to them for the different competing schemes of various mutual funds from amongst which the scheme is being recommended to the investor. Forms can be deposited with mutual funds through the agents and distributors who provide such services. These days, post offices and banks also distribute the units of mutual funds. However, the investors may please note that the mutual fund schemes being marketed by banks and post offices should not be taken as their own schemes and there is no assurance of returns is given by them. The only role of banks and post offices is to help in distribution of mutual funds schemes to the investors. Investors should not be carried away by commission/gifts, if any, given by agents/distributors for investing in  particular scheme. Investors also have the option to invest directly with the mutual fund either by visiting the mutual fund branch or online through mutual fund website. In addition, the investors can also invest through MF central website/application. The details of MF Central may be accessed using https://mfcentral.com and MFCentral Mutual fund App. 17) When will the investor get statement of account after investing in  mutual fund and what is  consolidated account statement (CAS)? Mutual funds are required to dispatch statements of accounts within five working days from the date of closure of the initial subscription of the scheme or from the date of receipt of the request from the investors/unitholders. Mutual fund shall issue units in dematerialized form within two working days of the receipt of request from unit holder. Also, mutual funds are required to send confirmation specifying the number of units allotted to the investor by way of email and/or SMS‟ to the investor’ registered email address and/or mobile number as soon as possible but not later than five working days from the date of closure of the initial subscription list and/or from the date of receipt of the request from the investors/unitholders. Mutual funds are required to issue consolidated account statement (CAS) for each calendar month, on or before fifteenth day of the succeeding month, to the investors in whose folios transaction() has/have taken place during that month.  CAS every half yearly (September/ March) is issued, detailing holding at the end of the six month, across all schemes of all mutual funds, to all such investors in whose folios and demat account no transaction has taken place during that period. 18) Do investors need to pay any commission to the distributor for selling mutual fund schemes? As stated above, no entry load can be charged for any mutual fund scheme. An investor can choose to pay upfront commission directly to the distributor, based on his assessment of various factors including the service rendered by the distributor. However, for investments made through  distributor, commission is paid by mutual fund to the distributor such that the total expense ratio for an investor is within the limits on expense ratio specified under regulation 52 of the SEBI (Mutual Funds) Regulations, 1996. Hence, the cost borne by investors remains within the limit prescribed under SEBI Regulations. Further,  transaction charge of INR 150 and INR 100 per subscription of INR 10,000 and above by  new and an existing investor, respectively, can be levied by distributor. This transaction charge can be levied only if  distributor has opted in to levy transaction charge for that type of mutual fund scheme. Further, the transaction charge, if any, is to be deducted by the mutual fund from the subscription amount and paid to the distributor and the balance is to be invested. 19) How does an investor know how much commission the distributor is earning and what is the TER being charged in  scheme? The Consolidated Account Statement (CAS) issued to investors is required to provide information in terms of total purchase value/cost of investment in each scheme. Further, CAS issued for the half-year (ended September/March) also provides the amount of actual commission paid by Mutual Funds to distributors (in absolute terms) during the half-year period against the concerned investor’ total investments in each mutual fund scheme. The term “commission” here refers to all direct monetary payments and other payments made in the form of gifts/rewards, trips, event sponsorships etc. by mutual funds to distributors. Further,  mention may be made in such CAS indicating that the commission disclosed is gross commission and does not exclude costs incurred by distributors such as GST (wherever applicable, as per existing rates), operating expenses, etc. Such half-yearly CAS is issued to all mutual fund investors, excluding those investors who do not have any holdings in mutual fund schemes and where no commission against their investment has been paid to distributors, during the concerned half-year period. Such half-yearly CAS are also required to disclose the scheme’ average Total Expense Ratio (in percentage terms) for the half year period for each scheme’ applicable plan (regular or direct or both) where the concerned investor has actually invested. 20) Can  mutual fund change the asset allocation while deploying funds of investors? Considering the market trends, any prudent fund manager can change the asset allocation, .., he can invest higher or lower percentage of the fund in equity or debt instruments compared to what is disclosed in the offer document. It can be done on  short term basis on defensive considerations .. to protect the NAV. Hence, the fund managers are allowed certain flexibility in altering the asset allocation considering the interest of the investors. In case the mutual fund wants to change the asset allocation on  permanent basis, they are required to inform the unit holders and give them option to exit the scheme at prevailing NAV without any exit load. 21) What is product labelling? Product labelling has been introduced to help investors have an easy understanding of the kind of product/scheme they are investing in and its suitability to them. All the mutual funds are required to label their schemes on the parameters as mentioned under: . Nature of scheme such as to create wealth or provide regular income in an indicative time horizon (short/ medium/ long term). .  brief about the investment objective (in  single line sentence) followed by kind of product in which investor is investing (Equity/Debt). . The depiction of risk shall be through pictorial meter named \"Riskometer\" and this meter would appropriately depict the level of risk in any specific scheme. Risk--meter shall have following six levels of risk for mutual fund schemes: \\uf0b7 Low Risk \\uf0b7 Low to Moderate Risk \\uf0b7 Moderate Risk \\uf0b7 Moderately High Risk \\uf0b7 High Risk and \\uf0b7 Very High Risk To know about the product labelling of the scheme investors should refer to the front page of initial offering application forms, Key Information Memorandum (KIM) and Scheme Information Documents (SIDs, Common application form – along with the information about the scheme, and Scheme advertisements. However, investors should consult their financial advisers if they are not clear about the suitability of the product. 22) What is application supported by blocked amount (ASBA)? ASBA is  facility provided by banks to investors in new fund offers (NFOs) of mutual funds. If investors apply for an NFO via ASBA, their application amount gets blocked in their bank account. While the amount stays in the account, it cannot be used until the MF unit allotment is done. In case of unsuccessful subscription .. getting subscription of less than 90% of the minimum subscription amount by the mutual fund, the blocked amount is unblocked. For more information, please refer to FAQs on ASBA available on SEBI website at http://www.sebi.gov.in/cms/sebi_data/commondocs/asbaprocess1_p.pdf. 23) How to fill up the application form of  mutual fund scheme? An investor must mention clearly his name, address, number of units applied for and such other information as required in the application form. Know your Customer (KYC) documents need to be submitted by  first time investor. 24) What is  direct plan? SEBI has mandated mutual funds to compulsorily launch  direct plan for direct investments, .., investments not routed through  distributor, from 01 January 2013 in addition to regular plan. Such direct plan has  lower expense ratio compared to regular plan as there is no distribution expenses and no commission is to be paid from such plans. The direct plan also has  separate NAV. Investment in direct plans can be made in lump sum, ..  onetime payment, or through  Systematic Investment Plan (SIP). 25) What is  Systematic Investment Plan (SIP)?  SIP allows investors to save and invest periodically over  longer period of time. It is  convenient way to \"invest as you earn\" and offers the investor an opportunity to enter the market regularly, thus averaging the acquisition cost of Units. Any investor/unitholder can avail of this facility subject to certain terms and conditions contained in the Application Form. The Fundamental Attributes and other terms and conditions regarding purchase/redemption, price and related matters are the same as contained in the offer document. For example  decides to invest INR ,000 per month for  year. When the market price of shares falls,  benefits by purchasing more units; and is protected by purchasing less when the price rises as explained below. Date NAV Approx. number of units the investor will get at INR 1000 -Jan 10 100 -Feb 10. 95.24 -Mar 11 90.91 -Apr . 105.26 -May  111.11 -Jun 11. 86.96 -Jul 11 90.91 -Aug 10. 95.24 -Sep 10 100 -Oct . 105.26 -Nov 10 100 -Dec . 105.26 1186.15 Within one year,  has ,186 units by investing just INR ,000 every month at an average cost of 12000/1186.15 = 10.1170. This is as against 12,000/10 = ,000 units or 12000/11. = 1043. units or 12000/ = ,333. units if  had invested lump sum on  Jan,  Jun or  May, respectively. 26) What is Systematic Transfer Plan (STP)? STP is  facility allowing investors to transfer their invested amount on  periodic basis from one scheme to another schemes launched by the same Mutual fund by giving  single instruction. 27) What is Systematic Withdrawal Plan (SWP)? SWP allows the investor/unitholder to withdraw  specified sum of money each month/quarter/half-yearly/yearly from his investments in the Schemes. SWP is ideal for investors seeking  regular inflow of funds for their needs 28) What is Switching? Switching is the process of redeeming one fund and purchasing another within the same AMC. This allows investors to reallocate their investments based on their changing financial goals and market conditions. 29) Is it possible to invest in mutual fund schemes using cash? Yes, cash investments up to INR 50,000 per investor, per mutual fund, per financial year can be made in mutual funds. However, the limit of INR 50,000 would be an umbrella limit for investments by an investor through both -wallet and/or cash per mutual fund, per financial year. Although investment can be made in cash but repayment in form of redemptions, IDCW/dividend payments can only be made through the banking channel. The pay-out bank details have to be provided in the application form. 30) Can non-resident Indians (NRIs) invest in mutual funds? Yes, non-resident Indians can also invest in mutual funds. Necessary details in this respect are given in the offer documents of the schemes. 31) What should an investor look into an offer document? Mutual fund investments are subject to market risks. An investor should carefully read all the scheme related documents before investing. An abridged offer document known as [Key Information Memorandum (KIM)], which contains information in concise form, is required to be given to the prospective investor by the mutual fund. The application form for subscription to  scheme is an integral part of the offer document. SEBI has prescribed minimum disclosures in the offer document. 32) What is IDCW (Dividend plan) in mutual funds? SEBI on April , 2021 has renamed the dividend option in mutual funds to Income Distribution cum Capital Withdrawal (IDCW). The change was made to clarify the difference between dividends from stocks and mutual funds and to avoid confusion that the dividend option was  guaranteed bonus. 33) What is the timeline for transfer of IDCW and redemption proceeds to investors/unitholders: The payment of IDCW (dividend) proceeds to the investors/unitholders shall be made within seven working days from the record date*. The transfer of redemption or repurchase proceeds to the unitholders shall be made within three working days from the date of redemption or repurchase and five working days for schemes investing at least 80% of total assets in permissible overseas investments. In case of failures to dispatch the redemption/repurchase proceeds within the stipulated time period, the mutual fund is liable to pay interest as specified by SEBI from time to time (15% .. at present) for the period of delay. *Record date is the date which will be considered for the purpose of determining the eligibility of investors whose names appear on the register of unit holders/investors for receiving IDCW. 34) Can  mutual fund change the nature of the scheme from the one specified in the offer document? Yes, mutual funds can change the nature of their schemes known as fundamental attributes (structure, investment pattern, terms of issue etc.), but they must follow certain procedures as enumerated below: \\uf0b7 Send written communication to all unit holders about the proposed changes. \\uf0b7 The mutual fund must publish an advertisement in an English daily with nationwide circulation and in  newspaper in the language of the region where the mutual fund\\' head office is located \\uf0b7 The mutual fund must give unit holders  30-day window to exit the scheme without paying an exit load \\uf0b7 Seek prior approval from SEBI to change any fundamental attributes of the scheme. The mutual funds are also required to follow similar procedure (seeking positive consent from the investors) while converting the scheme from close-ended to open-ended scheme. 35) How will an investor come to know about the changes, if any, which may occur in the mutual fund? There may be changes from time to time in  mutual fund. The mutual funds are required to inform any material changes to their investors/unit holders. Apart from it, many mutual funds send newsletters to their investors. At present, Scheme Information Document (SID) is required to be revised and updated within one month from the end of the half-year, based on the relevant data and information as at the end of September and March respectively. In the meantime, the investors are informed about the material changes by way of addendum to the offer document. 36) How to know the performance of  mutual fund scheme? The performance of  scheme is reflected in its NAV which is disclosed on daily basis. The NAVs of mutual funds are required to be published on the web sites of mutual funds. All mutual funds are also required to put their NAVs on the web site of Association of Mutual Funds in India (AMFI) www.amfiindia.com and thus the investors can access NAVs of all mutual funds at one place. Also, each mutual fund is required to have  dashboard on its website providing performance and key disclosures pertaining to each scheme managed by the mutual fund. The mutual funds are also required to publish their performance in the form of half-yearly results which also include their returns over  period of time .. last six months,  year,  years,  years and since inception of schemes. Investors can also look into other details like percentage of expenses of total assets as these have an effect on the return and other useful information in the same half-yearly format. The mutual funds are also required to send annual report or abridged annual report to the unitholders at the end of the year. Investors can compare the performance of their schemes with those of other mutual funds under the same category. They can also compare the performance of equity oriented schemes with the benchmarks like BSE Sensitive Index, Nifty, etc. 37) How to know where the mutual fund scheme has invested the money mobilized from investors? The mutual funds are required to disclose full portfolios of all of their schemes on  monthly basis on their website and on the website of AMFI within 10 days from the close of each month/ half- year respectively in  user-friendly and downloadable spreadsheet format. For debt schemes, such disclosure is done on fortnightly basis within  days of every fortnight. In case of unit holders whose -mail addresses are registered, the Mutual Funds are required to send via email both the monthly and half-yearly statement of scheme portfolio within 10 days from the close of each month/ half-year respectively. Mutual Funds are also required to publish an advertisement every half-year disclosing the hosting of the half-yearly statement of its schemes portfolio on their respective website and on the website of AMFI and the modes such as SMS, telephone, email or written request (letter) through which  unit holder can submit  request for  physical or electronic copy of the statement of scheme portfolio. Such advertisement to be published in the all India edition of at least two daily newspapers, one each in English and Hindi. Mutual Funds are required to provide  physical copy of the statement of its scheme portfolio, without charging any cost, on specific request received from  unit holder. The scheme portfolio shows investment made in each security .. equity, debentures, money market instruments, government securities, etc. and their quantity, market value and % to NAV. These portfolio statements are also required to disclose illiquid securities in the portfolio, investment made in rated and unrated debt securities, non-performing assets (NPAs), etc. 38) Is there any difference between investing in  mutual fund and in an initial public offering (IPO) of  company? Yes, there is  difference. Initial Public Offering (IPO) is offered by  company to directly raise money for  single company as per the stated objective. In the case of mutual funds, the money garnered is used for investing in eligible securities such as equity and debt instruments of basket of companies, money market instruments, gold, etc. 39) Where can an investor look for information on mutual funds? Almost all the mutual funds have their own web sites, where details of NAVs,SIDs ,KIMs and portfolio of the schemes etc. are readily available. Investors can also access the NAVs of all mutual funds at the web site of Association of mutual funds in India (AMFI) www.amfiindia.com. Investors can log on to the web site of SEBI www.sebi.gov.in and go to “Mutual Funds” section for information on SEBI regulations and guidelines, data on mutual funds, draft offer documents filed by mutual funds, etc. Also, in the annual reports of SEBI available on the web site, information on mutual funds is given. There are  number of other web sites which give  lot of information of various schemes of mutual funds including returns over  period of time. Many newspapers also publish useful information on mutual funds on daily and weekly basis. Investors may also approach their financial advisors to guide them in this regard. 40) How can an investor view unclaimed IDCW / Redemption amount lying in their folios, if any, with  mutual fund and process to claim it? Investor can find the details of unclaimed amounts on respective website of mutual fund upon key in the necessary information .. folio number, date of birth and registered mobile number etc. To know the process of claiming unclaimed IDCW/Redemption amount, investor should refer to the concerned website of the mutual fund. The information on unclaimed amount along with its prevailing value (based on income earned on deployment of such unclaimed amount) is separately disclosed to investors through the periodic statement of accounts/CAS sent to the investors. 41) Can an investor appoint  nominee for his investment in units of  mutual fund? Yes. Regulation 29A of SEBI (Mutual Fund) Regulations, 1996, notifies that the mutual fund shall provide nomination facility to the unit holders to nominate  person in whose favour the units shall be transmitted in the event of death of the unit holder. An investor, investing in mutual fund units has to provide nomination or opt out of nomination through physical or online mode. The requirement of nomination is optional for jointly held folios.  person may nominate upto three persons and clearly indicate the percentage of allocation/share in favour of each of the nominee against their names, and such allocation/share shall be in whole numbers without any decimals. Further an individual may appoint different nominees for different schemes. Non individuals including society, trust, body corporate, partnership firm, Karta of Hindu Undivided Family, holder of Power of Attorney cannot nominate. 42) If mutual fund scheme is wound up, what happens to money invested? In case of winding up of  scheme, the proceeds of sale realised by disposing of the assets of the scheme after adjustment of liabilities as are due and payable under the scheme and after making appropriate provision for meeting the expenses connected with such winding up, the balance shall be paid to the investors/unitholders in proportion to their respective interest in the assets of the scheme. Unitholders are entitled to receive  report on winding up from the mutual funds which gives all necessary details. 43) Where can investors lodge their complaints? The grievance redressal and dispute mechanism is mentioned in the offer documents and website of the respective mutual fund. Investors should approach the concerned Mutual Fund / Investor Service Centre of the Mutual Fund for resolution of their complaints. Details regarding the name address, and phone number of the investor relation officer whom should be approach in case of any query, complaints etc. can be found in the offer document/SAI of the respective mutual fund. In case of non redressal of the complaint, the investors can approach SEBI for redressing their complaints. Investor may lodge their complaints through SCORES (SEBI Complaints Redress System – https://scores.sebi.gov.in) or by sending their complaints on the address given below: Securities and Exchange Board of India Office of Investor Assistance and Education, Securities and Exchange Board of India, SEBI Bhavan II PN-C7,  Block BKC, Bandra Kurla Complex, Bandra East, Mumbai, Maharashtra 400051 Investors can lodge their complaint through SEBI SCORES mobile app also.'"
      ]
     },
     "execution_count": 133,
     "metadata": {},
     "output_type": "execute_result"
    }
   ],
   "source": [
    "documents"
   ]
  },
  {
   "cell_type": "code",
   "execution_count": 134,
   "id": "45fe03ff",
   "metadata": {},
   "outputs": [
    {
     "data": {
      "text/plain": [
       "44143"
      ]
     },
     "execution_count": 134,
     "metadata": {},
     "output_type": "execute_result"
    }
   ],
   "source": [
    "len(documents)"
   ]
  },
  {
   "cell_type": "code",
   "execution_count": 135,
   "id": "137a2229",
   "metadata": {},
   "outputs": [],
   "source": [
    "import langchain_text_splitters"
   ]
  },
  {
   "cell_type": "code",
   "execution_count": 136,
   "id": "9e8aef90",
   "metadata": {},
   "outputs": [
    {
     "name": "stdout",
     "output_type": "stream",
     "text": [
      "Total chunks: 99\n",
      "Introduction Different investment avenues are available to investors. Mutual funds also offer good investment opportunities to the investors. Like all investments, they also carry certain risks. The investors should compare the risks and expected returns after adjustment of tax on various instruments while taking investment decisions. The investors may seek advice from experts while making investment decisions. With an objective to make the investors aware of functioning of mutual funds, an\n"
     ]
    }
   ],
   "source": [
    "## character-based chunks with overlap:\n",
    "\n",
    "from langchain_text_splitters import RecursiveCharacterTextSplitter\n",
    "\n",
    "splitter = RecursiveCharacterTextSplitter(chunk_size=500, chunk_overlap=50,\n",
    "                                          separators=[\"\\n\\n\", \"\\n\", \" \", \"\"])\n",
    "chunks = splitter.split_text(documents)\n",
    "\n",
    "\n",
    "print(f\"Total chunks: {len(chunks)}\")\n",
    "print(chunks[0])  # preview first chunk"
   ]
  },
  {
   "cell_type": "code",
   "execution_count": 137,
   "id": "2c8091fb",
   "metadata": {},
   "outputs": [],
   "source": [
    "from sentence_transformers import SentenceTransformer"
   ]
  },
  {
   "cell_type": "code",
   "execution_count": 138,
   "id": "66d0b621",
   "metadata": {},
   "outputs": [
    {
     "data": {
      "text/plain": [
       "array([[ 0.07045498, -0.01928587, -0.02310016, ..., -0.04449525,\n",
       "         0.02631509,  0.05331701],\n",
       "       [ 0.05381014, -0.00355125, -0.04846382, ..., -0.00643085,\n",
       "         0.03483032,  0.01452152],\n",
       "       [ 0.09488978, -0.06614771, -0.05396507, ..., -0.03850112,\n",
       "         0.03113568, -0.0027707 ],\n",
       "       ...,\n",
       "       [ 0.0017096 ,  0.03545368, -0.02141625, ..., -0.07993176,\n",
       "        -0.05482747,  0.03807379],\n",
       "       [ 0.02352829,  0.05688978, -0.05820875, ..., -0.04374652,\n",
       "        -0.05600811, -0.00170038],\n",
       "       [ 0.00062163,  0.06241807, -0.02467038, ..., -0.0301974 ,\n",
       "         0.00135569,  0.00899023]], dtype=float32)"
      ]
     },
     "execution_count": 138,
     "metadata": {},
     "output_type": "execute_result"
    }
   ],
   "source": [
    "## Create embeddings\n",
    "\n",
    "model = SentenceTransformer(\"all-MiniLM-L6-v2\")\n",
    "dense_embedding = model.encode(chunks, convert_to_numpy=True).astype('float32')  # FAISS requires float32\n",
    "\n",
    "dense_embedding"
   ]
  },
  {
   "cell_type": "code",
   "execution_count": 139,
   "id": "bcb7f992",
   "metadata": {},
   "outputs": [
    {
     "data": {
      "text/plain": [
       "(99, 384)"
      ]
     },
     "execution_count": 139,
     "metadata": {},
     "output_type": "execute_result"
    }
   ],
   "source": [
    "dense_embedding.shape\n"
   ]
  },
  {
   "cell_type": "code",
   "execution_count": 140,
   "id": "d28f8fcc",
   "metadata": {},
   "outputs": [],
   "source": [
    "# Build FAISS index\n",
    "import faiss\n",
    "\n",
    "dim = dense_embedding.shape[1]\n",
    "index = faiss.IndexFlatL2(dim)\n",
    "index.add(dense_embedding)"
   ]
  },
  {
   "cell_type": "markdown",
   "id": "fdb79163",
   "metadata": {},
   "source": [
    "#### Setup for Sparse (Lexical matching) Retrival"
   ]
  },
  {
   "cell_type": "code",
   "execution_count": 141,
   "id": "8a0ff508",
   "metadata": {},
   "outputs": [
    {
     "name": "stdout",
     "output_type": "stream",
     "text": [
      "total word after tokenized:  7978\n",
      "tokenized_chunks :  99\n"
     ]
    }
   ],
   "source": [
    "from rank_bm25 import BM25Okapi\n",
    "from nltk.tokenize import word_tokenize,sent_tokenize\n",
    "\n",
    "## Note: Sentence tokenized created 352 sentences from documents\n",
    "\n",
    "tokenized_corpus = word_tokenize(documents) ## --> this is for documents \n",
    "print(\"total word after tokenized: \", len(tokenized_corpus))\n",
    "\n",
    "## Preprocess chunks for BM25 (tokenize each chunk) --> because for Dense I used chunks so for sparse also I used chunks\n",
    "\n",
    "tokenized_chunks = [word_tokenize(i) for i in chunks]\n",
    "\n",
    "print(\"tokenized_chunks : \", len(tokenized_chunks))\n",
    "\n",
    "bm25 = BM25Okapi(tokenized_chunks)"
   ]
  },
  {
   "cell_type": "code",
   "execution_count": 142,
   "id": "a57018e3",
   "metadata": {},
   "outputs": [
    {
     "data": {
      "text/plain": [
       "<rank_bm25.BM25Okapi at 0x228a30e4c40>"
      ]
     },
     "execution_count": 142,
     "metadata": {},
     "output_type": "execute_result"
    }
   ],
   "source": [
    "bm25"
   ]
  },
  {
   "cell_type": "code",
   "execution_count": 167,
   "id": "bccd8aa2",
   "metadata": {},
   "outputs": [],
   "source": [
    "# Semantic retrieval (Dense)\n",
    "def retrieve_dense(query, k=3):\n",
    "    query_emb = model.encode([query])\n",
    "    D, I = index.search(np.array(query_emb), k)\n",
    "    print (\"Dense distance: \", D)\n",
    "    return I[0]  # return indices only"
   ]
  },
  {
   "cell_type": "markdown",
   "id": "94847077",
   "metadata": {},
   "source": [
    "#### BM25 is not a binary or count-based metric — it's a ranking function that computes weighted relevance scores using floats. So it's expected that scores are floating-point numbers.\n",
    "\n",
    "##### Ideally score array will have shape(99,). Each value is the BM25 score indicating how relevant that chunk is to the qyery. My chunk shape is 99\n"
   ]
  },
  {
   "cell_type": "code",
   "execution_count": null,
   "id": "90c136ac",
   "metadata": {},
   "outputs": [],
   "source": [
    "# Lexical retrieval (Sparse using BM25)\n",
    "def retrieve_sparse(query, k=3):\n",
    "    tokenized_query = word_tokenize(query)\n",
    "    scores = bm25.get_scores(tokenized_query)\n",
    "    print(scores.shape) \n",
    "    I = np.argsort(scores)[::-1][:k]\n",
    "    \n",
    "    return I  # indices"
   ]
  },
  {
   "cell_type": "code",
   "execution_count": 156,
   "id": "5025a519",
   "metadata": {},
   "outputs": [],
   "source": [
    "## Hybrid retrieval logic (combine indices):\n",
    "\n",
    "def hybrid_retrieve(query, k_dense=3, k_sparse=3):\n",
    "    dense_indices = retrieve_dense(query, k_dense)\n",
    "    print(\"dense_indicies : \", dense_indices)\n",
    "    sparse_indices = retrieve_sparse(query, k_sparse)\n",
    "    print(\"sparse_indicies : \", sparse_indices)\n",
    "\n",
    "    # Union of indices (or you can do weighted fusion if desired)\n",
    "    hybrid_indices = list(set(dense_indices) | set(sparse_indices))\n",
    "    print(\"hybrid_indices : \", hybrid_indices)\n",
    "\n",
    "    # Get the actual documents (from chunks/doc_texts/etc.)\n",
    "    retrieved_docs = [chunks[i] for i in hybrid_indices]  # or doc_texts[i]\n",
    "    print(\"retrieved_docs : \", retrieved_docs)\n",
    "    return retrieved_docs"
   ]
  },
  {
   "cell_type": "code",
   "execution_count": 161,
   "id": "57ce8479",
   "metadata": {},
   "outputs": [],
   "source": [
    "## Now use LLM\n",
    "\n",
    "def generate_with_gemini(query, context_str):\n",
    "    model = genai.GenerativeModel(\"gemini-2.5-flash\")\n",
    "\n",
    "   \n",
    "    # Prepare the prompt\n",
    "    prompt = f\"\"\"\n",
    "                You are a financial assistant AI. Use only the context provided below to answer the user query clearly and concisely.\n",
    "\n",
    "                Important rules:\n",
    "                - ONLY use the context below to answer.\n",
    "                - DO NOT include any disclaimers or headers.\n",
    "                - If the answer is not present in the context, respond with: \"I'm sorry, I don't have enough information to answer that.\"\n",
    "\n",
    "\n",
    "    CONTEXT:\n",
    "    {context_str}\n",
    "\n",
    "    USER QUESTION:\n",
    "    {query}\n",
    "\n",
    "    Answer:\n",
    "    \"\"\"\n",
    "\n",
    "    # Generate response\n",
    "    response = model.generate_content(prompt)\n",
    "    print(\"Response from LLM --> \", response.text.strip())\n",
    "    return response.text.strip()\n"
   ]
  },
  {
   "cell_type": "code",
   "execution_count": 162,
   "id": "8fd5ea5e",
   "metadata": {},
   "outputs": [],
   "source": [
    "# Answer Generation Function (can be improved later):\n",
    "\n",
    "def generate_answer(query, context):\n",
    "    context_str = \"\\n---\\n\".join(context)\n",
    "    \n",
    "    # Call Gemini LLM with query + context\n",
    "    answer = generate_with_gemini(query, context_str)\n",
    "    \n",
    "    #return f\"Based on the following context:\\n{context_str}\\n\\nAnswer: {query} → [You can now call your LLM here]\"\n",
    "    return answer\n",
    "\n"
   ]
  },
  {
   "cell_type": "code",
   "execution_count": 163,
   "id": "2a559f1d",
   "metadata": {},
   "outputs": [],
   "source": [
    "# Final RAG with cache (use hybrid retrieval):\n",
    "\n",
    "def rag_with_cache(query, k_dense=3, k_sparse=3):\n",
    "    # Step 1: Check Redis cache\n",
    "    cached_answer = redis_client.get(query)\n",
    "    if cached_answer:\n",
    "        print(\"[Answer from Redis] :\")\n",
    "        return f\"[CACHE HIT] {cached_answer.decode()}\"\n",
    "    \n",
    "    # Step 2: Hybrid Retrieval (combine dense + sparse)\n",
    "    context = hybrid_retrieve(query, k_dense, k_sparse)\n",
    "\n",
    "    # Step 3: Generate answer\n",
    "    answer = generate_answer(query, context)\n",
    "\n",
    "     # Step 4: Cache the answer\n",
    "    redis_client.set(query, answer, ex=60)  # cache for 60s\n",
    "    return f\"[RAG GENERATED] {answer}\""
   ]
  },
  {
   "cell_type": "code",
   "execution_count": 164,
   "id": "0083b0d8",
   "metadata": {},
   "outputs": [
    {
     "name": "stdout",
     "output_type": "stream",
     "text": [
      "dense_indicies :  [13 11 12]\n",
      "(99,)\n",
      "sparse_indicies :  [13 16 17]\n",
      "hybrid_indices :  [np.int64(16), np.int64(17), np.int64(11), np.int64(12), np.int64(13)]\n",
      "retrieved_docs :  ['the next business day; \\uf0b7 Where the application is received after .00 pm – the closing NAV of the next business day. Equity oriented funds and debt funds (except liquid and overnight funds) . Purchases and Switch in . Redemptions and switch out .00 pm \\uf0b7 If application is received and funds (for purchase) are available for utilization before cut off time, the closing NAV of the day on which the application is received. \\uf0b7 If the application is received after cut off time, the closing NAV of the', 'after cut off time, the closing NAV of the next business day will be applicable. \\uf0b7 If funds (for purchase) are not available for utilization, irrespective of the receipt time of application, closing NAV of the day on which the funds are available for utilization will be applicable. Examples: Assume that in  particular week, Monday, Wednesday and Thursday are business days and Tuesday is  non-business day. \\uf0b7 An investor submits an application on Monday to buy units of an equity mutual fund', 'Therefore, NAV is determined on  daily basis and required to be disclosed by the mutual funds on  daily basis. NAV of schemes has to be updated in accordance with time lines mentioned under: (Timelines in Business days) Sr.no. Scheme type Timeline  All schemes other than those mentioned below 11 PM on  day  For schemes having exposure to ETCDs (Exchange Traded Commodity Derivatives)  AM on + day  Fund of Funds (FoFs) schemes 10 AM on + day  Schemes investing at least 80% of total assets in', 'Schemes investing at least 80% of total assets in permissible overseas investments 10 AM on + day  Index funds and ETFs investing at least 80% of total assets in permissible overseas investments  Schemes unable to disclose NAV as per timeline mentioned above due to inability in capturing same day valuation of underlying investments Such time as per disclosure made in SID along with reasons for such delayed disclosure  = date of transaction in mutual fund units in India ) What is cut off timing', 'fund units in India ) What is cut off timing and its role in determining the applicable NAV for transactions in Mutual Fund scheme ()? The purchase and redemption are done at the applicable NAV. In order to ensure fairness to investors, SEBI has prescribed cut-off timings which are uniformly applicable for all mutual funds. These are provided below: Type of Scheme Transaction type Cut off time Applicable NAV Liquid fund and Overnight fund Purchases and Switch in .30 pm \\uf0b7 where the application']\n",
      "Response from LLM -->  SEBI has prescribed cut-off timings that are uniformly applicable for all mutual funds to ensure fairness to investors.\n",
      "\n",
      "Its role in determining the applicable NAV for transactions in Mutual Fund schemes is as follows:\n",
      "*   If an application is received and funds (for purchase) are available for utilization before the cut-off time, the closing NAV of the day on which the application is received is applicable.\n",
      "*   If the application is received after the cut-off time, the closing NAV of the next business day will be applicable.\n",
      "*   If funds (for purchase) are not available for utilization, irrespective of the receipt time of application, the closing NAV of the day on which the funds are available for utilization will be applicable.\n",
      "[RAG GENERATED] SEBI has prescribed cut-off timings that are uniformly applicable for all mutual funds to ensure fairness to investors.\n",
      "\n",
      "Its role in determining the applicable NAV for transactions in Mutual Fund schemes is as follows:\n",
      "*   If an application is received and funds (for purchase) are available for utilization before the cut-off time, the closing NAV of the day on which the application is received is applicable.\n",
      "*   If the application is received after the cut-off time, the closing NAV of the next business day will be applicable.\n",
      "*   If funds (for purchase) are not available for utilization, irrespective of the receipt time of application, the closing NAV of the day on which the funds are available for utilization will be applicable.\n"
     ]
    }
   ],
   "source": [
    "query= \"what is cut off timing and its role in determining the applicable NAV for transactions in Mutual Fund schemes?\"\n",
    "\n",
    "answer = rag_with_cache(query)  ## --> hybrid Retrival and LLM response\n",
    "print(answer)"
   ]
  },
  {
   "cell_type": "markdown",
   "id": "672c7985",
   "metadata": {},
   "source": [
    "#### Run some query which totally mismatch like \n",
    "query = \"how to cook pulav, give me receipe\"\n",
    "\n",
    "finally LLM respose as instructed : sorry , I dont have answer... but when I check Dense and Sparse it return indices like :\n",
    "\n",
    "Dense distance:  [[1.9305966 1.9397118 1.9704973]]\n",
    "dense_indicies :  [97 46 36]\n",
    "sparse_indicies :  [55 83 36]\n",
    "\n",
    "1- FAISS is a nearest neighbor search engine. It must return k results, even if the similarity is near zero.\n",
    "\n",
    "2- So even if you're asking about \"cooking pulav\", it might return chunks that mention “process,” “steps,” or just have a similar sentence structure.\n",
    "\n",
    "Using L2 (Euclidean) distance from FAISS, and the values are:\n",
    "~1.93, ~1.94, ~1.97\n",
    "\n",
    "### In dense retrieval, lower distance = more similar\n",
    "\n",
    "These distances are very high, meaning:\n",
    "\n",
    "➤ 🔴 The query is very far from your stored chunks\n",
    "\n",
    "→ In other words: nothing matched semantically\n"
   ]
  },
  {
   "cell_type": "code",
   "execution_count": 168,
   "id": "7876f470",
   "metadata": {},
   "outputs": [
    {
     "name": "stdout",
     "output_type": "stream",
     "text": [
      "Dense distance:  [[1.9305966 1.9397118 1.9704973]]\n",
      "dense_indicies :  [97 46 36]\n",
      "(99,)\n",
      "sparse_indicies :  [55 83 36]\n",
      "hybrid_indices :  [np.int64(97), np.int64(83), np.int64(36), np.int64(55), np.int64(46)]\n",
      "retrieved_docs :  ['investors can approach SEBI for redressing their complaints. Investor may lodge their complaints through SCORES (SEBI Complaints Redress System – https://scores.sebi.gov.in) or by sending their complaints on the address given below: Securities and Exchange Board of India Office of Investor Assistance and Education, Securities and Exchange Board of India, SEBI Bhavan II PN-C7,  Block BKC, Bandra Kurla Complex, Bandra East, Mumbai, Maharashtra 400051 Investors can lodge their complaint through', 'at the end of the year. Investors can compare the performance of their schemes with those of other mutual funds under the same category. They can also compare the performance of equity oriented schemes with the benchmarks like BSE Sensitive Index, Nifty, etc. 37) How to know where the mutual fund scheme has invested the money mobilized from investors? The mutual funds are required to disclose full portfolios of all of their schemes on  monthly basis on their website and on the website of AMFI', 'with investors or distributors. Units are issued to  few designated large participants called Authorised Participants (APs). The APs provide buy and sell quotes for the ETFs on the stock exchange, which enable investors to buy and sell the ETFs at any given point of time when the stock markets are open for trading. ETFs therefore trade like stocks and experience price changes throughout the day as they are bought and sold. Buying and selling ETFs requires the investor to have demat and trading', 'has opted in to levy transaction charge for that type of mutual fund scheme. Further, the transaction charge, if any, is to be deducted by the mutual fund from the subscription amount and paid to the distributor and the balance is to be invested. 19) How does an investor know how much commission the distributor is earning and what is the TER being charged in  scheme? The Consolidated Account Statement (CAS) issued to investors is required to provide information in terms of total purchase', 'and application forms. Investors must ensure that they invest through Association of Mutual Funds in India (AMFI) registered distributors and that the distributor has  valid AMFI Registration Number (ARN). Investors can verify the registration status of  particular distributor whether he/she has been suspended/terminated from doing mutual fund business at http://www.amfiindia.com/locate-the- nearest-financial-advisor. An employee of  corporate distributor is also required to have an Employee']\n",
      "Response from LLM -->  I'm sorry, I don't have enough information to answer that.\n",
      "[RAG GENERATED] I'm sorry, I don't have enough information to answer that.\n"
     ]
    }
   ],
   "source": [
    "##query =\"what is open-ended schemes \"\n",
    "query = \"how to cook pulav with soya chunks like fried-rice ?\"\n",
    "# print(query)\n",
    "answer = rag_with_cache(query)\n",
    "print(answer)\n"
   ]
  },
  {
   "cell_type": "code",
   "execution_count": null,
   "id": "669111dd",
   "metadata": {},
   "outputs": [
    {
     "name": "stdout",
     "output_type": "stream",
     "text": [
      " *** Demo *** RAG+CAG with or without Latency \n",
      " \n",
      "\n",
      "Q: Suggest different types of funds available \n",
      "Query from function:  Suggest different types of funds available \n",
      "[CACHE HIT] Based on context: Pharmaceuticals etc. These funds are launched to get the benefit from growth and performance of the particular sector . For example, technology sector would primarily invest in tech companies only. The returns in these funds are dependent on the performance of t he respective sectors/industry. Thematic funds invest in stocks across a specific theme. These funds focus on specific themes or trends in the market. The themes can be based on economic trends, social changes, technological advancements etc. Examples of these funds are MNC funds, PSU (public sector units) funds, energy funds . Compare d to sectoral fund thematic funds \n",
      "Answer: Suggest different types of funds available  → Pharmaceuticals etc. These funds are launched to get the benefit from growth and performance of the particular sector . For example, technology sector would primarily invest in tech companies only. The returns in these funds are dependent on the performance of t he respective sectors/industry. Thematic funds invest in stocks across a specific theme. These funds focus on specific themes or trends in the market. The themes can be based on economic trends, social changes, technological advancements etc. Examples of these funds are MNC funds, PSU (public sector units) funds, energy funds . Compare d to sectoral fund thematic funds\n",
      "\n",
      "Response from LLM --> \n",
      "Pharmaceuticals funds, technology sector funds, MNC funds, PSU (public sector units) funds, and energy funds.\n",
      "\n",
      "Q: what is Balanced or hybrid funds\n",
      "Query from function:  what is Balanced or hybrid funds\n",
      "[CACHE HIT] Based on context: investors may not bother about these fluctuations. Balanced/Hybrid Scheme The aim of balanced schemes is to provide both growth and regular income as such schemes invest both in equities and fixed income securities in the proportion indicated in their offer documents. These are appropriate for investors looking for moderate growth. They ge nerally invest 40 -60% in equity and debt instruments. These funds are also affected because of fluctuations in share prices in the stock markets. However, NAVs of such funds are likely to be less volatile compared to pure equity funds. Money Market or Liqu id Schemes These schemes \n",
      "Answer: what is Balanced or hybrid funds → investors may not bother about these fluctuations. Balanced/Hybrid Scheme The aim of balanced schemes is to provide both growth and regular income as such schemes invest both in equities and fixed income securities in the proportion indicated in their offer documents. These are appropriate for investors looking for moderate growth. They ge nerally invest 40 -60% in equity and debt instruments. These funds are also affected because of fluctuations in share prices in the stock markets. However, NAVs of such funds are likely to be less volatile compared to pure equity funds. Money Market or Liqu id Schemes These schemes\n",
      "\n",
      "Response from LLM --> \n",
      "Balanced/Hybrid Schemes aim to provide both growth and regular income by investing in equities and fixed income securities in proportions indicated in their offer documents. These schemes are appropriate for investors looking for moderate growth and generally invest 40-60% in equity and debt instruments. While affected by fluctuations in share prices, their NAVs are likely to be less volatile compared to pure equity funds.\n",
      "\n",
      "Q: who is Authorities to handle mf\n",
      "Query from function:  who is Authorities to handle mf\n",
      "[CACHE HIT] Based on context: valid AMFI Registration Number (ARN). Investors can verify the registration status of a particular distributor whether he/she has been suspended/terminated from doing mutual fund business at http://www.amfiindia.com/locate -the- nearest -financial -advisor . An employee of a corporate distributor is also required to have an Employee Unique Identification Number (EUI N). The distributors are required to disclose all the commissions (in the form of trail commission or any other mode) payable to them for the different competing schemes of various mutual funds from amongst which the scheme is being recommended to the inve stor. Forms can be deposited with mutual funds \n",
      "Answer: who is Authorities to handle mf → valid AMFI Registration Number (ARN). Investors can verify the registration status of a particular distributor whether he/she has been suspended/terminated from doing mutual fund business at http://www.amfiindia.com/locate -the- nearest -financial -advisor . An employee of a corporate distributor is also required to have an Employee Unique Identification Number (EUI N). The distributors are required to disclose all the commissions (in the form of trail commission or any other mode) payable to them for the different competing schemes of various mutual funds from amongst which the scheme is being recommended to the inve stor. Forms can be deposited with mutual funds\n",
      "\n",
      "Response from LLM --> \n",
      "A valid AMFI Registration Number (ARN) is required for authorities to handle mutual funds.\n",
      "\n",
      "Q: how to start investing in MF industries\n",
      "Query from function:  how to start investing in MF industries\n",
      "[CACHE HIT] Based on context: FAQs for Mutual Fund Investors DISCLAIMER • This is not a legal document. • These FAQs are prepared with a v iew to guide mutual fund Investors on investments in mutual funds . For full particulars of laws governing the Mutual Funds (MF), please refer to the Acts/Regulations/Guidelines/Circulars etc. appearing under the Legal tab of SEBI website i.e. www.sebi.g ov.in. The contents of these FAQs are updated as on August 31, 2024 . Introduction Different investment avenues are available to investors. Mutual funds also offer good investment opportunities to the investors. Like all investments, they also carry certain risks. The \n",
      "Answer: how to start investing in MF industries → FAQs for Mutual Fund Investors DISCLAIMER • This is not a legal document. • These FAQs are prepared with a v iew to guide mutual fund Investors on investments in mutual funds . For full particulars of laws governing the Mutual Funds (MF), please refer to the Acts/Regulations/Guidelines/Circulars etc. appearing under the Legal tab of SEBI website i.e. www.sebi.g ov.in. The contents of these FAQs are updated as on August 31, 2024 . Introduction Different investment avenues are available to investors. Mutual funds also offer good investment opportunities to the investors. Like all investments, they also carry certain risks. The\n"
     ]
    },
    {
     "ename": "ResourceExhausted",
     "evalue": "429 You exceeded your current quota, please check your plan and billing details. For more information on this error, head to: https://ai.google.dev/gemini-api/docs/rate-limits.\n* Quota exceeded for metric: generativelanguage.googleapis.com/generate_content_free_tier_requests, limit: 10\nPlease retry in 35.575945868s. [violations {\n  quota_metric: \"generativelanguage.googleapis.com/generate_content_free_tier_requests\"\n  quota_id: \"GenerateRequestsPerMinutePerProjectPerModel-FreeTier\"\n  quota_dimensions {\n    key: \"model\"\n    value: \"gemini-2.5-flash\"\n  }\n  quota_dimensions {\n    key: \"location\"\n    value: \"global\"\n  }\n  quota_value: 10\n}\n, links {\n  description: \"Learn more about Gemini API quotas\"\n  url: \"https://ai.google.dev/gemini-api/docs/rate-limits\"\n}\n, retry_delay {\n  seconds: 35\n}\n]",
     "output_type": "error",
     "traceback": [
      "\u001b[1;31m---------------------------------------------------------------------------\u001b[0m",
      "\u001b[1;31mResourceExhausted\u001b[0m                         Traceback (most recent call last)",
      "Cell \u001b[1;32mIn[154], line 19\u001b[0m\n\u001b[0;32m     14\u001b[0m answer \u001b[38;5;241m=\u001b[39m rag_with_cache(q)\n\u001b[0;32m     15\u001b[0m \u001b[38;5;28mprint\u001b[39m(answer)\n\u001b[1;32m---> 19\u001b[0m response \u001b[38;5;241m=\u001b[39m \u001b[43mgenerate_with_gemini\u001b[49m\u001b[43m(\u001b[49m\u001b[43mq\u001b[49m\u001b[43m,\u001b[49m\u001b[43m \u001b[49m\u001b[43manswer\u001b[49m\u001b[43m)\u001b[49m\n\u001b[0;32m     20\u001b[0m \u001b[38;5;28mprint\u001b[39m()\n\u001b[0;32m     21\u001b[0m \u001b[38;5;28mprint\u001b[39m(\u001b[38;5;124m\"\u001b[39m\u001b[38;5;124mResponse from LLM --> \u001b[39m\u001b[38;5;124m\"\u001b[39m)\n",
      "Cell \u001b[1;32mIn[147], line 29\u001b[0m, in \u001b[0;36mgenerate_with_gemini\u001b[1;34m(query, retrieved_chunks)\u001b[0m\n\u001b[0;32m     10\u001b[0m prompt \u001b[38;5;241m=\u001b[39m \u001b[38;5;124mf\u001b[39m\u001b[38;5;124m\"\"\"\u001b[39m\n\u001b[0;32m     11\u001b[0m \u001b[38;5;124m            You are a financial assistant AI. Use only the context provided below to answer the user query clearly and concisely.\u001b[39m\n\u001b[0;32m     12\u001b[0m \n\u001b[1;32m   (...)\u001b[0m\n\u001b[0;32m     25\u001b[0m \u001b[38;5;124mAnswer:\u001b[39m\n\u001b[0;32m     26\u001b[0m \u001b[38;5;124m\u001b[39m\u001b[38;5;124m\"\"\"\u001b[39m\n\u001b[0;32m     28\u001b[0m \u001b[38;5;66;03m# Generate response\u001b[39;00m\n\u001b[1;32m---> 29\u001b[0m response \u001b[38;5;241m=\u001b[39m \u001b[43mmodel\u001b[49m\u001b[38;5;241;43m.\u001b[39;49m\u001b[43mgenerate_content\u001b[49m\u001b[43m(\u001b[49m\u001b[43mprompt\u001b[49m\u001b[43m)\u001b[49m\n\u001b[0;32m     31\u001b[0m \u001b[38;5;28;01mreturn\u001b[39;00m response\u001b[38;5;241m.\u001b[39mtext\u001b[38;5;241m.\u001b[39mstrip()\n",
      "File \u001b[1;32mc:\\Work Drive-Suchi\\Mithileshsir_AI_ML_GenAI\\Project\\by me\\ChatBot_v2\\env-chatbot_v2\\lib\\site-packages\\google\\generativeai\\generative_models.py:331\u001b[0m, in \u001b[0;36mGenerativeModel.generate_content\u001b[1;34m(self, contents, generation_config, safety_settings, stream, tools, tool_config, request_options)\u001b[0m\n\u001b[0;32m    329\u001b[0m         \u001b[38;5;28;01mreturn\u001b[39;00m generation_types\u001b[38;5;241m.\u001b[39mGenerateContentResponse\u001b[38;5;241m.\u001b[39mfrom_iterator(iterator)\n\u001b[0;32m    330\u001b[0m     \u001b[38;5;28;01melse\u001b[39;00m:\n\u001b[1;32m--> 331\u001b[0m         response \u001b[38;5;241m=\u001b[39m \u001b[38;5;28mself\u001b[39m\u001b[38;5;241m.\u001b[39m_client\u001b[38;5;241m.\u001b[39mgenerate_content(\n\u001b[0;32m    332\u001b[0m             request,\n\u001b[0;32m    333\u001b[0m             \u001b[38;5;241m*\u001b[39m\u001b[38;5;241m*\u001b[39mrequest_options,\n\u001b[0;32m    334\u001b[0m         )\n\u001b[0;32m    335\u001b[0m         \u001b[38;5;28;01mreturn\u001b[39;00m generation_types\u001b[38;5;241m.\u001b[39mGenerateContentResponse\u001b[38;5;241m.\u001b[39mfrom_response(response)\n\u001b[0;32m    336\u001b[0m \u001b[38;5;28;01mexcept\u001b[39;00m google\u001b[38;5;241m.\u001b[39mapi_core\u001b[38;5;241m.\u001b[39mexceptions\u001b[38;5;241m.\u001b[39mInvalidArgument \u001b[38;5;28;01mas\u001b[39;00m e:\n",
      "File \u001b[1;32mc:\\Work Drive-Suchi\\Mithileshsir_AI_ML_GenAI\\Project\\by me\\ChatBot_v2\\env-chatbot_v2\\lib\\site-packages\\google\\ai\\generativelanguage_v1beta\\services\\generative_service\\client.py:835\u001b[0m, in \u001b[0;36mGenerativeServiceClient.generate_content\u001b[1;34m(self, request, model, contents, retry, timeout, metadata)\u001b[0m\n\u001b[0;32m    832\u001b[0m \u001b[38;5;28mself\u001b[39m\u001b[38;5;241m.\u001b[39m_validate_universe_domain()\n\u001b[0;32m    834\u001b[0m \u001b[38;5;66;03m# Send the request.\u001b[39;00m\n\u001b[1;32m--> 835\u001b[0m response \u001b[38;5;241m=\u001b[39m \u001b[43mrpc\u001b[49m\u001b[43m(\u001b[49m\n\u001b[0;32m    836\u001b[0m \u001b[43m    \u001b[49m\u001b[43mrequest\u001b[49m\u001b[43m,\u001b[49m\n\u001b[0;32m    837\u001b[0m \u001b[43m    \u001b[49m\u001b[43mretry\u001b[49m\u001b[38;5;241;43m=\u001b[39;49m\u001b[43mretry\u001b[49m\u001b[43m,\u001b[49m\n\u001b[0;32m    838\u001b[0m \u001b[43m    \u001b[49m\u001b[43mtimeout\u001b[49m\u001b[38;5;241;43m=\u001b[39;49m\u001b[43mtimeout\u001b[49m\u001b[43m,\u001b[49m\n\u001b[0;32m    839\u001b[0m \u001b[43m    \u001b[49m\u001b[43mmetadata\u001b[49m\u001b[38;5;241;43m=\u001b[39;49m\u001b[43mmetadata\u001b[49m\u001b[43m,\u001b[49m\n\u001b[0;32m    840\u001b[0m \u001b[43m\u001b[49m\u001b[43m)\u001b[49m\n\u001b[0;32m    842\u001b[0m \u001b[38;5;66;03m# Done; return the response.\u001b[39;00m\n\u001b[0;32m    843\u001b[0m \u001b[38;5;28;01mreturn\u001b[39;00m response\n",
      "File \u001b[1;32mc:\\Work Drive-Suchi\\Mithileshsir_AI_ML_GenAI\\Project\\by me\\ChatBot_v2\\env-chatbot_v2\\lib\\site-packages\\google\\api_core\\gapic_v1\\method.py:131\u001b[0m, in \u001b[0;36m_GapicCallable.__call__\u001b[1;34m(self, timeout, retry, compression, *args, **kwargs)\u001b[0m\n\u001b[0;32m    128\u001b[0m \u001b[38;5;28;01mif\u001b[39;00m \u001b[38;5;28mself\u001b[39m\u001b[38;5;241m.\u001b[39m_compression \u001b[38;5;129;01mis\u001b[39;00m \u001b[38;5;129;01mnot\u001b[39;00m \u001b[38;5;28;01mNone\u001b[39;00m:\n\u001b[0;32m    129\u001b[0m     kwargs[\u001b[38;5;124m\"\u001b[39m\u001b[38;5;124mcompression\u001b[39m\u001b[38;5;124m\"\u001b[39m] \u001b[38;5;241m=\u001b[39m compression\n\u001b[1;32m--> 131\u001b[0m \u001b[38;5;28;01mreturn\u001b[39;00m wrapped_func(\u001b[38;5;241m*\u001b[39margs, \u001b[38;5;241m*\u001b[39m\u001b[38;5;241m*\u001b[39mkwargs)\n",
      "File \u001b[1;32mc:\\Work Drive-Suchi\\Mithileshsir_AI_ML_GenAI\\Project\\by me\\ChatBot_v2\\env-chatbot_v2\\lib\\site-packages\\google\\api_core\\retry\\retry_unary.py:294\u001b[0m, in \u001b[0;36mRetry.__call__.<locals>.retry_wrapped_func\u001b[1;34m(*args, **kwargs)\u001b[0m\n\u001b[0;32m    290\u001b[0m target \u001b[38;5;241m=\u001b[39m functools\u001b[38;5;241m.\u001b[39mpartial(func, \u001b[38;5;241m*\u001b[39margs, \u001b[38;5;241m*\u001b[39m\u001b[38;5;241m*\u001b[39mkwargs)\n\u001b[0;32m    291\u001b[0m sleep_generator \u001b[38;5;241m=\u001b[39m exponential_sleep_generator(\n\u001b[0;32m    292\u001b[0m     \u001b[38;5;28mself\u001b[39m\u001b[38;5;241m.\u001b[39m_initial, \u001b[38;5;28mself\u001b[39m\u001b[38;5;241m.\u001b[39m_maximum, multiplier\u001b[38;5;241m=\u001b[39m\u001b[38;5;28mself\u001b[39m\u001b[38;5;241m.\u001b[39m_multiplier\n\u001b[0;32m    293\u001b[0m )\n\u001b[1;32m--> 294\u001b[0m \u001b[38;5;28;01mreturn\u001b[39;00m \u001b[43mretry_target\u001b[49m\u001b[43m(\u001b[49m\n\u001b[0;32m    295\u001b[0m \u001b[43m    \u001b[49m\u001b[43mtarget\u001b[49m\u001b[43m,\u001b[49m\n\u001b[0;32m    296\u001b[0m \u001b[43m    \u001b[49m\u001b[38;5;28;43mself\u001b[39;49m\u001b[38;5;241;43m.\u001b[39;49m\u001b[43m_predicate\u001b[49m\u001b[43m,\u001b[49m\n\u001b[0;32m    297\u001b[0m \u001b[43m    \u001b[49m\u001b[43msleep_generator\u001b[49m\u001b[43m,\u001b[49m\n\u001b[0;32m    298\u001b[0m \u001b[43m    \u001b[49m\u001b[43mtimeout\u001b[49m\u001b[38;5;241;43m=\u001b[39;49m\u001b[38;5;28;43mself\u001b[39;49m\u001b[38;5;241;43m.\u001b[39;49m\u001b[43m_timeout\u001b[49m\u001b[43m,\u001b[49m\n\u001b[0;32m    299\u001b[0m \u001b[43m    \u001b[49m\u001b[43mon_error\u001b[49m\u001b[38;5;241;43m=\u001b[39;49m\u001b[43mon_error\u001b[49m\u001b[43m,\u001b[49m\n\u001b[0;32m    300\u001b[0m \u001b[43m\u001b[49m\u001b[43m)\u001b[49m\n",
      "File \u001b[1;32mc:\\Work Drive-Suchi\\Mithileshsir_AI_ML_GenAI\\Project\\by me\\ChatBot_v2\\env-chatbot_v2\\lib\\site-packages\\google\\api_core\\retry\\retry_unary.py:156\u001b[0m, in \u001b[0;36mretry_target\u001b[1;34m(target, predicate, sleep_generator, timeout, on_error, exception_factory, **kwargs)\u001b[0m\n\u001b[0;32m    152\u001b[0m \u001b[38;5;66;03m# pylint: disable=broad-except\u001b[39;00m\n\u001b[0;32m    153\u001b[0m \u001b[38;5;66;03m# This function explicitly must deal with broad exceptions.\u001b[39;00m\n\u001b[0;32m    154\u001b[0m \u001b[38;5;28;01mexcept\u001b[39;00m \u001b[38;5;167;01mException\u001b[39;00m \u001b[38;5;28;01mas\u001b[39;00m exc:\n\u001b[0;32m    155\u001b[0m     \u001b[38;5;66;03m# defer to shared logic for handling errors\u001b[39;00m\n\u001b[1;32m--> 156\u001b[0m     next_sleep \u001b[38;5;241m=\u001b[39m \u001b[43m_retry_error_helper\u001b[49m\u001b[43m(\u001b[49m\n\u001b[0;32m    157\u001b[0m \u001b[43m        \u001b[49m\u001b[43mexc\u001b[49m\u001b[43m,\u001b[49m\n\u001b[0;32m    158\u001b[0m \u001b[43m        \u001b[49m\u001b[43mdeadline\u001b[49m\u001b[43m,\u001b[49m\n\u001b[0;32m    159\u001b[0m \u001b[43m        \u001b[49m\u001b[43msleep_iter\u001b[49m\u001b[43m,\u001b[49m\n\u001b[0;32m    160\u001b[0m \u001b[43m        \u001b[49m\u001b[43merror_list\u001b[49m\u001b[43m,\u001b[49m\n\u001b[0;32m    161\u001b[0m \u001b[43m        \u001b[49m\u001b[43mpredicate\u001b[49m\u001b[43m,\u001b[49m\n\u001b[0;32m    162\u001b[0m \u001b[43m        \u001b[49m\u001b[43mon_error\u001b[49m\u001b[43m,\u001b[49m\n\u001b[0;32m    163\u001b[0m \u001b[43m        \u001b[49m\u001b[43mexception_factory\u001b[49m\u001b[43m,\u001b[49m\n\u001b[0;32m    164\u001b[0m \u001b[43m        \u001b[49m\u001b[43mtimeout\u001b[49m\u001b[43m,\u001b[49m\n\u001b[0;32m    165\u001b[0m \u001b[43m    \u001b[49m\u001b[43m)\u001b[49m\n\u001b[0;32m    166\u001b[0m     \u001b[38;5;66;03m# if exception not raised, sleep before next attempt\u001b[39;00m\n\u001b[0;32m    167\u001b[0m     time\u001b[38;5;241m.\u001b[39msleep(next_sleep)\n",
      "File \u001b[1;32mc:\\Work Drive-Suchi\\Mithileshsir_AI_ML_GenAI\\Project\\by me\\ChatBot_v2\\env-chatbot_v2\\lib\\site-packages\\google\\api_core\\retry\\retry_base.py:214\u001b[0m, in \u001b[0;36m_retry_error_helper\u001b[1;34m(exc, deadline, sleep_iterator, error_list, predicate_fn, on_error_fn, exc_factory_fn, original_timeout)\u001b[0m\n\u001b[0;32m    208\u001b[0m \u001b[38;5;28;01mif\u001b[39;00m \u001b[38;5;129;01mnot\u001b[39;00m predicate_fn(exc):\n\u001b[0;32m    209\u001b[0m     final_exc, source_exc \u001b[38;5;241m=\u001b[39m exc_factory_fn(\n\u001b[0;32m    210\u001b[0m         error_list,\n\u001b[0;32m    211\u001b[0m         RetryFailureReason\u001b[38;5;241m.\u001b[39mNON_RETRYABLE_ERROR,\n\u001b[0;32m    212\u001b[0m         original_timeout,\n\u001b[0;32m    213\u001b[0m     )\n\u001b[1;32m--> 214\u001b[0m     \u001b[38;5;28;01mraise\u001b[39;00m final_exc \u001b[38;5;28;01mfrom\u001b[39;00m\u001b[38;5;250m \u001b[39m\u001b[38;5;21;01msource_exc\u001b[39;00m\n\u001b[0;32m    215\u001b[0m \u001b[38;5;28;01mif\u001b[39;00m on_error_fn \u001b[38;5;129;01mis\u001b[39;00m \u001b[38;5;129;01mnot\u001b[39;00m \u001b[38;5;28;01mNone\u001b[39;00m:\n\u001b[0;32m    216\u001b[0m     on_error_fn(exc)\n",
      "File \u001b[1;32mc:\\Work Drive-Suchi\\Mithileshsir_AI_ML_GenAI\\Project\\by me\\ChatBot_v2\\env-chatbot_v2\\lib\\site-packages\\google\\api_core\\retry\\retry_unary.py:147\u001b[0m, in \u001b[0;36mretry_target\u001b[1;34m(target, predicate, sleep_generator, timeout, on_error, exception_factory, **kwargs)\u001b[0m\n\u001b[0;32m    145\u001b[0m \u001b[38;5;28;01mwhile\u001b[39;00m \u001b[38;5;28;01mTrue\u001b[39;00m:\n\u001b[0;32m    146\u001b[0m     \u001b[38;5;28;01mtry\u001b[39;00m:\n\u001b[1;32m--> 147\u001b[0m         result \u001b[38;5;241m=\u001b[39m \u001b[43mtarget\u001b[49m\u001b[43m(\u001b[49m\u001b[43m)\u001b[49m\n\u001b[0;32m    148\u001b[0m         \u001b[38;5;28;01mif\u001b[39;00m inspect\u001b[38;5;241m.\u001b[39misawaitable(result):\n\u001b[0;32m    149\u001b[0m             warnings\u001b[38;5;241m.\u001b[39mwarn(_ASYNC_RETRY_WARNING)\n",
      "File \u001b[1;32mc:\\Work Drive-Suchi\\Mithileshsir_AI_ML_GenAI\\Project\\by me\\ChatBot_v2\\env-chatbot_v2\\lib\\site-packages\\google\\api_core\\timeout.py:130\u001b[0m, in \u001b[0;36mTimeToDeadlineTimeout.__call__.<locals>.func_with_timeout\u001b[1;34m(*args, **kwargs)\u001b[0m\n\u001b[0;32m    126\u001b[0m         remaining_timeout \u001b[38;5;241m=\u001b[39m \u001b[38;5;28mself\u001b[39m\u001b[38;5;241m.\u001b[39m_timeout\n\u001b[0;32m    128\u001b[0m     kwargs[\u001b[38;5;124m\"\u001b[39m\u001b[38;5;124mtimeout\u001b[39m\u001b[38;5;124m\"\u001b[39m] \u001b[38;5;241m=\u001b[39m remaining_timeout\n\u001b[1;32m--> 130\u001b[0m \u001b[38;5;28;01mreturn\u001b[39;00m func(\u001b[38;5;241m*\u001b[39margs, \u001b[38;5;241m*\u001b[39m\u001b[38;5;241m*\u001b[39mkwargs)\n",
      "File \u001b[1;32mc:\\Work Drive-Suchi\\Mithileshsir_AI_ML_GenAI\\Project\\by me\\ChatBot_v2\\env-chatbot_v2\\lib\\site-packages\\google\\api_core\\grpc_helpers.py:77\u001b[0m, in \u001b[0;36m_wrap_unary_errors.<locals>.error_remapped_callable\u001b[1;34m(*args, **kwargs)\u001b[0m\n\u001b[0;32m     75\u001b[0m     \u001b[38;5;28;01mreturn\u001b[39;00m callable_(\u001b[38;5;241m*\u001b[39margs, \u001b[38;5;241m*\u001b[39m\u001b[38;5;241m*\u001b[39mkwargs)\n\u001b[0;32m     76\u001b[0m \u001b[38;5;28;01mexcept\u001b[39;00m grpc\u001b[38;5;241m.\u001b[39mRpcError \u001b[38;5;28;01mas\u001b[39;00m exc:\n\u001b[1;32m---> 77\u001b[0m     \u001b[38;5;28;01mraise\u001b[39;00m exceptions\u001b[38;5;241m.\u001b[39mfrom_grpc_error(exc) \u001b[38;5;28;01mfrom\u001b[39;00m\u001b[38;5;250m \u001b[39m\u001b[38;5;21;01mexc\u001b[39;00m\n",
      "\u001b[1;31mResourceExhausted\u001b[0m: 429 You exceeded your current quota, please check your plan and billing details. For more information on this error, head to: https://ai.google.dev/gemini-api/docs/rate-limits.\n* Quota exceeded for metric: generativelanguage.googleapis.com/generate_content_free_tier_requests, limit: 10\nPlease retry in 35.575945868s. [violations {\n  quota_metric: \"generativelanguage.googleapis.com/generate_content_free_tier_requests\"\n  quota_id: \"GenerateRequestsPerMinutePerProjectPerModel-FreeTier\"\n  quota_dimensions {\n    key: \"model\"\n    value: \"gemini-2.5-flash\"\n  }\n  quota_dimensions {\n    key: \"location\"\n    value: \"global\"\n  }\n  quota_value: 10\n}\n, links {\n  description: \"Learn more about Gemini API quotas\"\n  url: \"https://ai.google.dev/gemini-api/docs/rate-limits\"\n}\n, retry_delay {\n  seconds: 35\n}\n]"
     ]
    }
   ],
   "source": [
    "queries = [\"Suggest different types of funds available \" ,\n",
    "           \"what is Balanced or hybrid funds\",\n",
    "           \"who is Authorities to handle mf\" ,\n",
    "           \"how to start investing in MF industries\",\n",
    "           \"give me some introduction about mf\",\n",
    "           \"what is Balanced or hybrid funds\",\n",
    "            \"what is FoF Scheme\" ]\n",
    "\n",
    "print(\" *** Demo *** RAG+CAG with or without Latency \\n \")\n",
    "\n",
    "\n",
    "for q in queries:\n",
    "    print(f\"\\nQ: {q}\")  \n",
    "    answer = rag_with_cache(q)\n",
    "    print(answer)"
   ]
  },
  {
   "cell_type": "code",
   "execution_count": null,
   "id": "724438e2",
   "metadata": {},
   "outputs": [],
   "source": []
  }
 ],
 "metadata": {
  "kernelspec": {
   "display_name": "base",
   "language": "python",
   "name": "python3"
  },
  "language_info": {
   "codemirror_mode": {
    "name": "ipython",
    "version": 3
   },
   "file_extension": ".py",
   "mimetype": "text/x-python",
   "name": "python",
   "nbconvert_exporter": "python",
   "pygments_lexer": "ipython3",
   "version": "3.9.19"
  }
 },
 "nbformat": 4,
 "nbformat_minor": 5
}
